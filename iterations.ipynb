{
 "cells": [
  {
   "cell_type": "markdown",
   "metadata": {},
   "source": [
    "# Iteration\n",
    "\n",
    "## Updating variables\n",
    "\n",
    "A common pattern in assignment statements is an assignment statement that updates a variable, where the new value of the variable depends on the old.\n",
    "\n",
    "```python\n",
    "x = x + 1\n",
    "```\n",
    "\n",
    "This means \"get the current value of `x`, add 1, and then update `x` with the new value.\"\n",
    "\n",
    "If you try to update a variable that doesn't exist, you get an error, because Python evaluates the right side before it assigns a value to x:"
   ]
  },
  {
   "cell_type": "code",
   "execution_count": null,
   "metadata": {},
   "outputs": [],
   "source": [
    "x = x + 1"
   ]
  },
  {
   "cell_type": "markdown",
   "metadata": {},
   "source": [
    "Before you can update a variable, you have to initialize it, usually with a simple assignment:"
   ]
  },
  {
   "cell_type": "code",
   "execution_count": null,
   "metadata": {},
   "outputs": [],
   "source": [
    "x = 0\n",
    "x = x + 1\n",
    "x"
   ]
  },
  {
   "cell_type": "markdown",
   "metadata": {},
   "source": [
    "Updating a variable by adding 1 is called an increment; subtracting 1 is called a decrement."
   ]
  },
  {
   "cell_type": "markdown",
   "metadata": {},
   "source": [
    "## The while statement\n",
    "\n",
    "Computers are often used to automate repetitive tasks. Repeating identical or similar tasks without making errors is something that computers do well and people do poorly. Because iteration is so common, Python provides several language features to make it easier.\n",
    "\n",
    "One form of iteration in Python is the `while` statement. Here is a simple program that counts down from five and then says \"Blastoff!\"."
   ]
  },
  {
   "cell_type": "code",
   "execution_count": null,
   "metadata": {},
   "outputs": [],
   "source": [
    "n = 5\n",
    "while n > 0:\n",
    "    print(n)\n",
    "    n = n - 1\n",
    "print('Blastoff!')"
   ]
  },
  {
   "cell_type": "markdown",
   "metadata": {},
   "source": [
    "You can almost read the `while` statement as if it were English. It means, \"While `n` is greater than 0, display the value of `n` and then reduce the value of `n` by 1. When you get to 0, exit the while statement and display the word `Blastoff!`\"\n",
    "\n",
    "More formally, here is the flow of execution for a `while` statement:\n",
    "\n",
    "1. Evaluate the condition, yielding `True` or `False`.\n",
    "2. If the condition is false, exit the `while` statement and continue execution at the next statement.\n",
    "3. If the condition is true, execute the body and then go back to step 1.\n",
    "\n",
    "This type of flow is called a loop because the third step loops back around to the top. We call each time we execute the body of the loop an *iteration*. For the above loop, we would say, \"It had five iterations\", which means that the body of the loop was executed five times.\n",
    "\n",
    "The body of the loop should change the value of one or more variables so that eventually the condition becomes false and the loop terminates. We call the variable that changes each time the loop executes and controls when the loop finishes the iteration variable. If there is no *iteration variable*, the loop will repeat forever, resulting in an *infinite loop*."
   ]
  },
  {
   "cell_type": "markdown",
   "metadata": {},
   "source": [
    "## Infinite loops\n",
    "\n",
    "An endless source of amusement for programmers is the observation that the directions on shampoo, \"Lather, rinse, repeat,\" are an infinite loop because there is no iteration variable telling you how many times to execute the loop.\n",
    "\n",
    "In the case of `countdown`, we can prove that the loop terminates because we know that the value of `n` is finite, and we can see that the value of `n` gets smaller each time through the loop, so eventually we have to get to 0. Other times a loop is obviously infinite because it has no iteration variable at all."
   ]
  },
  {
   "cell_type": "markdown",
   "metadata": {},
   "source": [
    "## \"Infinite loops\" and *break*\n",
    "\n",
    "Sometimes you don't know it's time to end a loop until you get half way through the body. In that case you can write an infinite loop on purpose and then use the `break` statement to jump out of the loop.\n",
    "\n",
    "This loop is obviously an *infinite loop* because the logical expression on the while statement is simply the logical constant `True`:"
   ]
  },
  {
   "cell_type": "code",
   "execution_count": null,
   "metadata": {},
   "outputs": [],
   "source": [
    "n = 10\n",
    "while True:\n",
    "    print(n, end=' ')\n",
    "    n = n - 1\n",
    "print('Done!')"
   ]
  },
  {
   "cell_type": "markdown",
   "metadata": {},
   "source": [
    "If you make the mistake and run this code, you will learn quickly how to stop a runaway Python process on your system or find where the power-off button is on your computer. This program will run forever or until your battery runs out because the logical expression at the top of the loop is always true by virtue of the fact that the expression is the constant value `True`.\n",
    "\n",
    "While this is a dysfunctional infinite loop, we can still use this pattern to build useful loops as long as we carefully add code to the body of the loop to explicitly exit the loop using `break` when we have reached the exit condition.\n",
    "\n",
    "For example, suppose you want to take input from the user until they type `done`. You could write:"
   ]
  },
  {
   "cell_type": "code",
   "execution_count": null,
   "metadata": {},
   "outputs": [],
   "source": [
    "# Code: http://www.py4e.com/code3/copytildone1.py\n",
    "\n",
    "while True:\n",
    "    line = input('> ')\n",
    "    if line == 'done':\n",
    "        break\n",
    "    print(line)\n",
    "print('Done!')"
   ]
  },
  {
   "cell_type": "markdown",
   "metadata": {},
   "source": [
    "The loop condition is `True`, which is always true, so the loop runs repeatedly until it hits the `break` statement.\n",
    "\n",
    "Each time through, it prompts the user with an angle bracket. If the user types `done`, the `break` statement exits the loop. Otherwise the program echoes whatever the user types and goes back to the top of the loop. Here's a sample run:\n",
    "\n",
    "```python\n",
    "> hello there\n",
    "hello there\n",
    "> finished\n",
    "finished\n",
    "> done\n",
    "Done!\n",
    "```\n",
    "\n",
    "This way of writing `while` loops is common because you can check the condition anywhere in the loop (not just at the top) and you can express the stop condition affirmatively (\"stop when this happens\") rather than negatively (\"keep going until that happens.\").\n",
    "\n",
    "## Finishing iterations with *continue*\n",
    "\n",
    "Sometimes you are in an iteration of a loop and want to finish the current iteration and immediately jump to the next iteration. In that case you can use the continue statement to skip to the next iteration without finishing the body of the loop for the current iteration.\n",
    "\n",
    "Here is an example of a loop that copies its input until the user types \"done\", but treats lines that start with the hash character as lines not to be printed (kind of like Python comments)."
   ]
  },
  {
   "cell_type": "code",
   "execution_count": null,
   "metadata": {},
   "outputs": [],
   "source": [
    "# Code: http://www.py4e.com/code3/copytildone2.py\n",
    "\n",
    "while True:\n",
    "    line = input('> ')\n",
    "    if line[0] == '#':\n",
    "        continue\n",
    "    if line == 'done':\n",
    "        break\n",
    "    print(line)\n",
    "print('Done!')"
   ]
  },
  {
   "cell_type": "markdown",
   "metadata": {},
   "source": [
    "Here is a sample run of this new program with continue added.\n",
    "\n",
    "```python\n",
    "> hello there\n",
    "hello there\n",
    "> # don't print this\n",
    "> print this!\n",
    "print this!\n",
    "> done\n",
    "Done!\n",
    "```\n",
    "\n",
    "All the lines are printed except the one that starts with the hash sign because when the `continue` is executed, it ends the current iteration and jumps back to the `while` statement to start the next iteration, thus skipping the `print` statement.\n",
    "\n",
    "## Definite loops using *for*\n",
    "\n",
    "Sometimes we want to loop through a set of things such as a list of words, the lines in a file, or a list of numbers. When we have a list of things to loop through, we can construct a definite loop using a `for` statement. We call the `while` statement an indefinite loop because it simply loops until some condition becomes `False`, whereas the `for` loop is looping through a known set of items so it runs through as many iterations as there are items in the set.\n",
    "\n",
    "The syntax of a `for` loop is similar to the `while` loop in that there is a `for` statement and a loop body:"
   ]
  },
  {
   "cell_type": "code",
   "execution_count": null,
   "metadata": {},
   "outputs": [],
   "source": [
    "friends = ['Joseph', 'Glenn', 'Sally']\n",
    "for friend in friends:\n",
    "    print('Happy New Year:', friend)\n",
    "print('Done!')"
   ]
  },
  {
   "cell_type": "markdown",
   "metadata": {},
   "source": [
    "In Python terms, the variable `friends` is a `list` (we will examine lists in more detail in [Chapter 8](08-lists.ipynb)) of three strings and the `for` loop goes through the list and executes the body once for each of the three strings in the list resulting in this output:\n",
    "\n",
    "```python\n",
    "Happy New Year: Joseph\n",
    "Happy New Year: Glenn\n",
    "Happy New Year: Sally\n",
    "Done!\n",
    "```\n",
    "\n",
    "Translating this `for` loop to English is not as direct as the `while`, but if you think of friends as a set, it goes like this: \"Run the statements in the body of the for loop once for each friend *in* the set named friends.\"\n",
    "\n",
    "Looking at the `for` loop, *for* and *in* are reserved Python keywords, and `friend` and `friends` are variables."
   ]
  },
  {
   "cell_type": "code",
   "execution_count": null,
   "metadata": {},
   "outputs": [],
   "source": [
    "for friend in friends:\n",
    "    print('Happy New Year:', friend)"
   ]
  },
  {
   "cell_type": "markdown",
   "metadata": {},
   "source": [
    "In particular, `friend` is the *iteration variable* for the `for` loop. The variable `friend` changes for each iteration of the loop and controls when the `for` loop completes. The *iteration variable* steps successively through the three strings stored in the `friends` variable."
   ]
  },
  {
   "cell_type": "markdown",
   "metadata": {},
   "source": [
    "## Loop patterns\n",
    "\n",
    "Often we use a `for` or `while` loop to go through a list of items or the contents of a file and we are looking for something such as the largest or smallest value of the data we scan through.\n",
    "\n",
    "These loops are generally constructed by:\n",
    "\n",
    "- Initializing one or more variables before the loop starts\n",
    "- Performing some computation on each item in the loop body, possibly changing the variables in the body of the loop\n",
    "- Looking at the resulting variables when the loop completes\n",
    "\n",
    "We will use a list of numbers to demonstrate the concepts and construction of these loop patterns."
   ]
  },
  {
   "cell_type": "markdown",
   "metadata": {},
   "source": [
    "## Counting and summing loops\n",
    "\n",
    "For example, to count the number of items in a list, we would write the following `for` loop:"
   ]
  },
  {
   "cell_type": "code",
   "execution_count": null,
   "metadata": {},
   "outputs": [],
   "source": [
    "count = 0\n",
    "for itervar in [3, 41, 12, 9, 74, 15]:\n",
    "    count = count + 1\n",
    "    # count += 1\n",
    "print('Count: ', count)"
   ]
  },
  {
   "cell_type": "markdown",
   "metadata": {},
   "source": [
    "We set the variable `count` to zero before the loop starts, then we write a `for` loop to run through the list of numbers. Our *iteration variable* is named `itervar` and while we do not use `itervar` in the loop, it does control the loop and cause the loop body to be executed once for each of the values in the list.\n",
    "\n",
    "In the body of the loop, we add 1 to the current value of `count` for each of the values in the list. While the loop is executing, the value of `count` is the number of values we have seen \"so far\".\n",
    "\n",
    "Once the loop completes, the value of `count` is the total number of items. The total number \"falls in our lap\" at the end of the loop. We construct the loop so that we have what we want when the loop finishes.\n",
    "\n",
    "Another similar loop that computes the total of a set of numbers is as follows:"
   ]
  },
  {
   "cell_type": "code",
   "execution_count": null,
   "metadata": {},
   "outputs": [],
   "source": [
    "total = 0\n",
    "for itervar in [3, 41, 12, 9, 74, 15]:\n",
    "    total = total + itervar\n",
    "print('Total: ', total)"
   ]
  },
  {
   "cell_type": "markdown",
   "metadata": {},
   "source": [
    "In this loop we do use the iteration variable. Instead of simply adding one to the `count` as in the previous loop, we add the actual number (3, 41, 12, etc.) to the running total during each loop iteration. If you think about the variable `total`, it contains the \"running total of the values so far\". So before the loop starts `total` is zero because we have not yet seen any values, during the loop `total` is the running total, and at the end of the loop `total` is the overall total of all the values in the list.\n",
    "\n",
    "As the loop executes, `total` accumulates the sum of the elements; a variable used this way is sometimes called an *accumulator*.\n",
    "\n",
    "Neither the counting loop nor the summing loop are particularly useful in practice because there are built-in functions `len()` and `sum()` that compute the number of items in a list and the total of the items in the list respectively.\n",
    "\n",
    "## Maximum and minimum loops\n",
    "\n",
    "To find the largest value in a list or sequence, we construct the following loop:"
   ]
  },
  {
   "cell_type": "code",
   "execution_count": null,
   "metadata": {},
   "outputs": [],
   "source": [
    "largest = None\n",
    "print('Before:', largest)\n",
    "for itervar in [3, 41, 12, 9, 74, 15]:\n",
    "    if (largest is None) or (itervar > largest):\n",
    "        largest = itervar\n",
    "    print('Loop:', itervar, largest)\n",
    "print('Largest:', largest)"
   ]
  },
  {
   "cell_type": "markdown",
   "metadata": {},
   "source": [
    "When the program executes, the output is as follows:\n",
    "\n",
    "```python\n",
    "Before: None\n",
    "Loop: 3 3\n",
    "Loop: 41 41\n",
    "Loop: 12 41\n",
    "Loop: 9 41\n",
    "Loop: 74 74\n",
    "Loop: 15 74\n",
    "Largest: 74\n",
    "```\n",
    "\n",
    "The variable `largest` is best thought of as the \"largest value we have seen so far\". Before the loop, we set `largest` to the constant `None`. `None` is a special constant value which we can store in a variable to mark the variable as \"empty\".\n",
    "\n",
    "Before the loop starts, the largest value we have seen so far is `None` since we have not yet seen any values. While the loop is executing, if `largest` is `None` then we take the first value we see as the largest so far. You can see in the first iteration when the value of `itervar` is 3, since `largest` is `None`, we immediately set `largest` to be 3.\n",
    "\n",
    "After the first iteration, `largest` is no longer `None`, so the second part of the compound logical expression that checks `itervar > largest` triggers only when we see a value that is larger than the \"largest so far\". When we see a new \"even larger\" value we take that new value for `largest`. You can see in the program output that `largest` progresses from 3 to 41 to 74.\n",
    "\n",
    "At the end of the loop, we have scanned all of the values and the variable `largest` now does contain the largest value in the list.\n",
    "\n",
    "To compute the smallest number, the code is very similar with one small change:"
   ]
  },
  {
   "cell_type": "code",
   "execution_count": null,
   "metadata": {},
   "outputs": [],
   "source": [
    "smallest = None\n",
    "print('Before:', smallest)\n",
    "for itervar in [3, 41, 12, 9, 74, 15]:\n",
    "    if smallest is None or itervar < smallest:\n",
    "        smallest = itervar\n",
    "    print('Loop:', itervar, smallest)\n",
    "print('Smallest:', smallest)"
   ]
  },
  {
   "cell_type": "markdown",
   "metadata": {},
   "source": [
    "Again, `smallest` is the \"smallest so far\" before, during, and after the loop executes. When the loop has completed, `smallest` contains the minimum value in the list.\n",
    "\n",
    "Again as in counting and summing, the built-in functions `max()` and `min()` make writing these exact loops unnecessary.\n",
    "\n",
    "The following is a simple version of the Python built-in `min()` function:"
   ]
  },
  {
   "cell_type": "code",
   "execution_count": null,
   "metadata": {},
   "outputs": [],
   "source": [
    "def minimum(values):\n",
    "    smallest = None\n",
    "    for value in values:\n",
    "        if smallest is None or value < smallest:\n",
    "            smallest = value\n",
    "    return smallest"
   ]
  },
  {
   "cell_type": "code",
   "execution_count": null,
   "metadata": {},
   "outputs": [],
   "source": [
    "minimum([3, 41, 12, 9, 74, 15, 2])"
   ]
  },
  {
   "cell_type": "code",
   "execution_count": null,
   "metadata": {},
   "outputs": [],
   "source": [
    "minimum(['x', 'a', 'd', 'c'])"
   ]
  },
  {
   "cell_type": "markdown",
   "metadata": {},
   "source": [
    "In the function version of the `smallest` code, we removed all of the print statements so as to be equivalent to the `min()` function which is already built in to Python."
   ]
  },
  {
   "cell_type": "markdown",
   "metadata": {},
   "source": [
    "## Debugging\n",
    "\n",
    "As you start writing bigger programs, you might find yourself spending more time debugging. More code means more chances to make an error and more places for bugs to hide.\n",
    "\n",
    "One way to cut your debugging time is \"debugging by bisection.\" For example, if there are 100 lines in your program and you check them one at a time, it would take 100 steps.\n",
    "\n",
    "Instead, try to break the problem in half. Look at the middle of the program, or near it, for an intermediate value you can check. Add a `print` statement (or something else that has a verifiable effect) and run the program.\n",
    "\n",
    "If the mid-point check is incorrect, the problem must be in the first half of the program. If it is correct, the problem is in the second half.\n",
    "\n",
    "Every time you perform a check like this, you halve the number of lines you have to search. After six steps (which is much less than 100), you would be down to one or two lines of code, at least in theory.\n",
    "\n",
    "In practice it is not always clear what the \"middle of the program\" is and not always possible to check it. It doesn't make sense to count lines and find the exact midpoint. Instead, think about places in the program where there might be errors and places where it is easy to put a check. Then choose a spot where you think the chances are about the same that the bug is before or after the check."
   ]
  },
  {
   "cell_type": "markdown",
   "metadata": {},
   "source": [
    "---\n",
    "## Glossary\n",
    "\n",
    "### accumulator\n",
    "A variable used in a loop to add up or accumulate a result. \n",
    "\n",
    "### counter\n",
    "A variable used in a loop to count the number of times something happened. We initialize a counter to zero and then increment the counter each time we want to \"count\" something. \n",
    "\n",
    "### decrement\n",
    "An update that decreases the value of a variable. \n",
    "\n",
    "### initialize\n",
    "An assignment that gives an initial value to a variable that will be updated.\n",
    "\n",
    "### increment\n",
    "An update that increases the value of a variable (often by one). \n",
    "\n",
    "### infinite loop\n",
    "A loop in which the terminating condition is never satisfied or for which there is no terminating condition. \n",
    "\n",
    "### iteration\n",
    "Repeated execution of a set of statements using either a function that calls itself or a loop. "
   ]
  },
  {
   "cell_type": "markdown",
   "metadata": {},
   "source": [
    "---\n",
    "## Exercises"
   ]
  },
  {
   "cell_type": "markdown",
   "metadata": {},
   "source": [
    "### Exercise 1:\n",
    "Write a program which repeatedly reads numbers until the user enters \"done\". Once \"done\" is entered, print out the total, count, and average of the numbers. If the user enters anything other than a number, detect their mistake using `try` and `except` and print an error message and skip to the next number.\n",
    "\n",
    "```python\n",
    "Enter a number: 4\n",
    "Enter a number: 5\n",
    "Enter a number: bad data\n",
    "Invalid input\n",
    "Enter a number: 7\n",
    "Enter a number: done\n",
    "16 3 5.333333333333333\n",
    "```"
   ]
  },
  {
   "cell_type": "code",
   "execution_count": null,
   "metadata": {},
   "outputs": [],
   "source": []
  },
  {
   "cell_type": "markdown",
   "metadata": {},
   "source": [
    "### Exercise 2:\n",
    "\n",
    "Write another program that prompts for a list of numbers as above and at the end prints out both the maximum and minimum of the numbers instead of the average."
   ]
  },
  {
   "cell_type": "code",
   "execution_count": null,
   "metadata": {},
   "outputs": [],
   "source": []
  },
  {
   "cell_type": "markdown",
   "metadata": {},
   "source": [
    "---\n",
    "\n",
    "## Acknowledgements\n",
    "\n",
    "Text © Charles R. Severance. Interactive HTML © Trinket. Both provided under a CC-NC-BY-SA license.\n",
    "A huge thanks to the project's many contributors!"
   ]
  }
 ],
 "metadata": {
  "kernelspec": {
   "display_name": "Python 3",
   "language": "python",
   "name": "python3"
  },
  "language_info": {
   "codemirror_mode": {
    "name": "ipython",
    "version": 3
   },
   "file_extension": ".py",
   "mimetype": "text/x-python",
   "name": "python",
   "nbconvert_exporter": "python",
   "pygments_lexer": "ipython3",
   "version": "3.8.6"
  }
 },
 "nbformat": 4,
 "nbformat_minor": 4
}
