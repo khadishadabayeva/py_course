{
 "cells": [
  {
   "cell_type": "markdown",
   "metadata": {},
   "source": [
    "# Files\n",
    "\n",
    "## Persistence\n",
    "\n",
    "So far, we have learned how to write programs and communicate our intentions to the *Central Processing Unit* using conditional execution, functions, and iterations. We have learned how to create and use data structures in the *Main Memory*. The CPU and memory are where our software works and runs. It is where all of the \"thinking\" happens.\n",
    "\n",
    "But if you recall from our hardware architecture discussions, once the power is turned off, anything stored in either the CPU or main memory is erased. So up to now, our programs have just been transient fun exercises to learn Python.\n",
    "\n",
    "![Secondary Memory](images/07.01-secondary_memory.svg)\n",
    "*Secondary Memory*\n",
    "\n",
    "In this chapter, we start to work with *Secondary Memory* (or files). Secondary memory is not erased when the power is turned off. Or in the case of a USB flash drive, the data we write from our programs can be removed from the system and transported to another system.\n",
    "\n",
    "We will primarily focus on reading and writing text files such as those we create in a text editor. Later we will see how to work with database files which are binary files, specifically designed to be read and written through database software."
   ]
  },
  {
   "cell_type": "markdown",
   "metadata": {},
   "source": [
    "## Opening files\n",
    "\n",
    "When we want to read or write a file (say on your hard drive), we first must open the file. Opening the file communicates with your operating system, which knows where the data for each file is stored. When you open a file, you are asking the operating system to find the file by name and make sure the file exists. In this example, we open the file [`data/mbox.txt`](data/mbox.txt).\n",
    "\n",
    "## Important\n",
    "\n",
    "If your are running this notebook on Google Colab, you need to first copy all file data to the local file system of the Colab environment. As Colab has a *ephemeral* file system (that is, it is recreated with a default state every time the notebook is restarted), you have to execute the following line whenever you reopen the notebook in your browser."
   ]
  },
  {
   "cell_type": "code",
   "execution_count": 5,
   "metadata": {},
   "outputs": [
    {
     "name": "stdout",
     "output_type": "stream",
     "text": [
      "Cloning into 'py_course'...\n",
      "remote: Enumerating objects: 82, done.\u001b[K\n",
      "remote: Counting objects: 100% (82/82), done.\u001b[K\n",
      "remote: Compressing objects: 100% (56/56), done.\u001b[K\n",
      "remote: Total 82 (delta 37), reused 71 (delta 26), pack-reused 0\u001b[K\n",
      "Receiving objects: 100% (82/82), 883.40 KiB | 2.95 MiB/s, done.\n",
      "Resolving deltas: 100% (37/37), done.\n"
     ]
    }
   ],
   "source": [
    "! rm -rf py_course\n",
    "! git clone https://github.com/martingasser/py_course"
   ]
  },
  {
   "cell_type": "code",
   "execution_count": 6,
   "metadata": {},
   "outputs": [
    {
     "name": "stdout",
     "output_type": "stream",
     "text": [
      "<_io.TextIOWrapper name='py_course/data/mbox.txt' mode='r' encoding='UTF-8'>\n"
     ]
    }
   ],
   "source": [
    "fhand = open('py_course/data/mbox.txt')\n",
    "print(fhand)"
   ]
  },
  {
   "cell_type": "markdown",
   "metadata": {},
   "source": [
    "If the open is successful, the operating system returns us a file handle. The file handle is not the actual data contained in the file, but instead it is a \"handle\" that we can use to read the data. You are given a handle if the requested file exists and you have the proper permissions to read the file.\n",
    "\n",
    "![A File Handle](images/07.02-file_handle.svg)\n",
    "*A File Handle*\n",
    "\n",
    "If the file does not exist, open will fail with a traceback and you will not get a handle to access the contents of the file:"
   ]
  },
  {
   "cell_type": "code",
   "execution_count": null,
   "metadata": {},
   "outputs": [],
   "source": [
    "fhand = open('stuff.txt')"
   ]
  },
  {
   "cell_type": "markdown",
   "metadata": {},
   "source": [
    "Later we will use `try` and `except` to deal more gracefully with the situation where we attempt to open a file that does not exist."
   ]
  },
  {
   "cell_type": "markdown",
   "metadata": {},
   "source": [
    "## Text files and lines\n",
    "\n",
    "A text file can be thought of as a sequence of lines, much like a Python string can be thought of as a sequence of characters. For example, this is a sample of a text file which records mail activity from various individuals in an open source project development team:\n",
    "\n",
    "```\n",
    "From stephen.marquard@uct.ac.za Sat Jan 5 09:14:16 2008\n",
    "Return-Path: <postmaster@collab.sakaiproject.org>\n",
    "Date: Sat, 5 Jan 2008 09:12:18 -0500\n",
    "To: source@collab.sakaiproject.org\n",
    "From: stephen.marquard@uct.ac.za\n",
    "Subject: [sakai] svn commit: r39772 - content/branches/\n",
    "Details: http://source.sakaiproject.org/viewsvn/?view=rev&rev=39772\n",
    "...\n",
    "```\n",
    "\n",
    "The entire file of mail interactions is available from [https://www.py4e.com/code3/mbox.txt](https://www.py4e.com/code3/mbox.txt) and a shortened version of the file is available from\n",
    "[https://www.py4e.com/code3/mbox-short.txt](https://www.py4e.com/code3/mbox-short.txt).\n",
    "\n",
    "These files are in a standard format for a file containing multiple mail messages. The lines which start with \"From \" separate the messages and the lines which start with \"From:\" are part of the messages. For more information about the mbox format, see [https://en.wikipedia.org/wiki/Mbox](https://en.wikipedia.org/wiki/Mbox).\n",
    "\n",
    "To break the file into lines, there is a special character that represents the \"end of the line\" called the newline character.\n",
    "\n",
    "In Python, we represent the newline character as a backslash-n in string constants. Even though this looks like two characters, it is actually a single character. When we look at the variable by entering \"stuff\" in the interpreter, it shows us the `\\n` in the string, but when we use print to show the string, we see the string broken into two lines by the newline character."
   ]
  },
  {
   "cell_type": "code",
   "execution_count": null,
   "metadata": {},
   "outputs": [],
   "source": [
    "stuff = 'Hello\\nWorld!'\n",
    "stuff"
   ]
  },
  {
   "cell_type": "code",
   "execution_count": null,
   "metadata": {},
   "outputs": [],
   "source": [
    "print(stuff)"
   ]
  },
  {
   "cell_type": "code",
   "execution_count": null,
   "metadata": {},
   "outputs": [],
   "source": [
    "stuff = 'X\\nY'\n",
    "print(stuff)"
   ]
  },
  {
   "cell_type": "code",
   "execution_count": null,
   "metadata": {},
   "outputs": [],
   "source": [
    "len(stuff)"
   ]
  },
  {
   "cell_type": "markdown",
   "metadata": {},
   "source": [
    "You can also see that the length of the string `X\\nY` is three characters because the newline character is a single character.\n",
    "\n",
    "So when we look at the lines in a file, we need to imagine that there is a special invisible character called the newline at the end of each line that marks the end of the line.\n",
    "\n",
    "So the newline character separates the characters in the file into lines."
   ]
  },
  {
   "cell_type": "markdown",
   "metadata": {},
   "source": [
    "## Reading files\n",
    "\n",
    "While the *file handle* does not contain the data for the file, it is quite easy to construct a `for` loop to read through and count each of the lines in a file:"
   ]
  },
  {
   "cell_type": "code",
   "execution_count": 7,
   "metadata": {},
   "outputs": [
    {
     "name": "stdout",
     "output_type": "stream",
     "text": [
      "Line Count: 1910\n"
     ]
    }
   ],
   "source": [
    "fhand = open('py_course/data/mbox-short.txt')\n",
    "count = 0\n",
    "for line in fhand:\n",
    "    count = count + 1\n",
    "print('Line Count:', count)\n",
    "\n",
    "# Code: http://www.py4e.com/code3/open.py"
   ]
  },
  {
   "cell_type": "markdown",
   "metadata": {},
   "source": [
    "We can use the file handle as the sequence in our `for` loop. Our `for` loop simply counts the number of lines in the file and prints them out. The rough translation of the `for` loop into English is, \"for each line in the file represented by the file handle, add one to the `count` variable.\"\n",
    "\n",
    "The reason that the `open` function does not read the entire file is that the file might be quite large with many gigabytes of data. The `open` statement takes the same amount of time regardless of the size of the file. The `for` loop actually causes the data to be read from the file.\n",
    "\n",
    "When the file is read using a `for` loop in this manner, Python takes care of splitting the data in the file into separate lines using the newline character. Python reads each line through the newline and includes the newline as the last character in the `line` variable for each iteration of the `for` loop.\n",
    "\n",
    "Because the `for` loop reads the data one line at a time, it can efficiently read and count the lines in very large files without running out of main memory to store the data. The above program can count the lines in any size file using very little memory since each line is read, counted, and then discarded.\n",
    "\n",
    "If you know the file is relatively small compared to the size of your main memory, you can read the whole file into one string using the `read` method on the file handle."
   ]
  },
  {
   "cell_type": "code",
   "execution_count": 8,
   "metadata": {},
   "outputs": [
    {
     "name": "stdout",
     "output_type": "stream",
     "text": [
      "94626\n"
     ]
    }
   ],
   "source": [
    "fhand = open('py_course/data/mbox-short.txt')\n",
    "inp = fhand.read()\n",
    "print(len(inp))"
   ]
  },
  {
   "cell_type": "code",
   "execution_count": null,
   "metadata": {},
   "outputs": [],
   "source": [
    "print(inp[:20])"
   ]
  },
  {
   "cell_type": "markdown",
   "metadata": {},
   "source": [
    "In this example, the entire contents (all 94,626 characters) of the file [`mbox-short.txt`](data/mbox-short.txt) are read directly into the variable `inp`. We use string slicing to print out the first 20 characters of the string data stored in `inp`.\n",
    "\n",
    "When the file is read in this manner, all the characters including all of the lines and newline characters are one big string in the variable `inp`. Remember that this form of the `open` function should only be used if the file data will fit comfortably in the main memory of your computer.\n",
    "\n",
    "If the file is too large to fit in main memory, you should write your program to read the file in chunks using a `for` or `while` loop."
   ]
  },
  {
   "cell_type": "markdown",
   "metadata": {},
   "source": [
    "## Searching through a file\n",
    "\n",
    "When you are searching through data in a file, it is a very common pattern to read through a file, ignoring most of the lines and only processing lines which meet a particular condition. We can combine the pattern for reading a file with string methods to build simple search mechanisms.\n",
    "\n",
    "For example, if we wanted to read a file and only print out lines which started with the prefix \"From:\", we could use the string method `startswith` to select only those lines with the desired prefix:"
   ]
  },
  {
   "cell_type": "code",
   "execution_count": 9,
   "metadata": {},
   "outputs": [
    {
     "name": "stdout",
     "output_type": "stream",
     "text": [
      "From: stephen.marquard@uct.ac.za\n",
      "\n",
      "From: louis@media.berkeley.edu\n",
      "\n",
      "From: zqian@umich.edu\n",
      "\n",
      "From: rjlowe@iupui.edu\n",
      "\n",
      "From: zqian@umich.edu\n",
      "\n",
      "From: rjlowe@iupui.edu\n",
      "\n",
      "From: cwen@iupui.edu\n",
      "\n",
      "From: cwen@iupui.edu\n",
      "\n",
      "From: gsilver@umich.edu\n",
      "\n",
      "From: gsilver@umich.edu\n",
      "\n",
      "From: zqian@umich.edu\n",
      "\n",
      "From: gsilver@umich.edu\n",
      "\n",
      "From: wagnermr@iupui.edu\n",
      "\n",
      "From: zqian@umich.edu\n",
      "\n",
      "From: antranig@caret.cam.ac.uk\n",
      "\n",
      "From: gopal.ramasammycook@gmail.com\n",
      "\n",
      "From: david.horwitz@uct.ac.za\n",
      "\n",
      "From: david.horwitz@uct.ac.za\n",
      "\n",
      "From: david.horwitz@uct.ac.za\n",
      "\n",
      "From: david.horwitz@uct.ac.za\n",
      "\n",
      "From: stephen.marquard@uct.ac.za\n",
      "\n",
      "From: louis@media.berkeley.edu\n",
      "\n",
      "From: louis@media.berkeley.edu\n",
      "\n",
      "From: ray@media.berkeley.edu\n",
      "\n",
      "From: cwen@iupui.edu\n",
      "\n",
      "From: cwen@iupui.edu\n",
      "\n",
      "From: cwen@iupui.edu\n",
      "\n"
     ]
    }
   ],
   "source": [
    "fhand = open('py_course/data/mbox-short.txt')\n",
    "count = 0\n",
    "for line in fhand:\n",
    "    if line.startswith('From:'):\n",
    "        print(line)\n",
    "        \n",
    "\n",
    "# Code: http://www.py4e.com/code3/search1.py"
   ]
  },
  {
   "cell_type": "markdown",
   "metadata": {},
   "source": [
    "When this program runs, we get the following output:\n",
    "```\n",
    "From: stephen.marquard@uct.ac.za\n",
    "\n",
    "From: louis@media.berkeley.edu\n",
    "\n",
    "From: zqian@umich.edu\n",
    "\n",
    "From: rjlowe@iupui.edu\n",
    "...\n",
    "```\n",
    "\n",
    "The output looks great since the only lines we are seeing are those which start with \"From:\", but why are we seeing the extra blank lines? This is due to that invisible newline character. Each of the lines ends with a newline, so the `print` statement prints the string in the variable line which includes a newline and then print adds *another* newline, resulting in the double spacing effect we see.\n",
    "\n",
    "We could use line slicing to print all but the last character, but a simpler approach is to use the `rstrip` method which strips whitespace from the right side of a string as follows:\n",
    "\n",
    "When this program runs, we get the following output:\n",
    "```\n",
    "From: stephen.marquard@uct.ac.za\n",
    "From: louis@media.berkeley.edu\n",
    "From: zqian@umich.edu\n",
    "From: rjlowe@iupui.edu\n",
    "From: zqian@umich.edu\n",
    "From: rjlowe@iupui.edu\n",
    "From: cwen@iupui.edu\n",
    "...\n",
    "```\n",
    "\n",
    "As your file processing programs get more complicated, you may want to structure your search loops using `continue`. The basic idea of the search loop is that you are looking for \"interesting\" lines and effectively skipping \"uninteresting\" lines. And then when we find an interesting line, we do something with that line.\n",
    "\n",
    "We can structure the loop to follow the pattern of skipping uninteresting lines as follows:"
   ]
  },
  {
   "cell_type": "code",
   "execution_count": null,
   "metadata": {},
   "outputs": [],
   "source": [
    "fhand = open('py_course/data/mbox-short.txt')\n",
    "for line in fhand:\n",
    "    line = line.rstrip()\n",
    "    # Skip 'uninteresting lines'\n",
    "    if not line.startswith('From:'):\n",
    "        continue\n",
    "    # Process our 'interesting' line\n",
    "    print(line)\n",
    "    \n",
    "\n",
    "# Code: http://www.py4e.com/code3/search3.py"
   ]
  },
  {
   "cell_type": "markdown",
   "metadata": {},
   "source": [
    "The output of the program is the same. In English, the uninteresting lines are those which do not start with \"From:\", which we skip using `continue`. For the \"interesting\" lines (i.e., those that start with \"From:\") we perform the processing on those lines.\n",
    "\n",
    "We can use the `find` string method to simulate a text editor search that finds lines where the search string is anywhere in the line. Since `find` looks for an occurrence of a string within another string and either returns the position of the string or -1 if the string was not found, we can write the following loop to show lines which contain the string \"@uct.ac.za\" (i.e., they come from the University of Cape Town in South Africa):"
   ]
  },
  {
   "cell_type": "code",
   "execution_count": null,
   "metadata": {},
   "outputs": [],
   "source": [
    "fhand = open('py_course/data/mbox-short.txt')\n",
    "for line in fhand:\n",
    "    line = line.rstrip()\n",
    "    if line.find('@uct.ac.za') == -1:\n",
    "        continue\n",
    "    print(line)\n",
    "\n",
    "# Code: http://www.py4e.com/code3/search4.py"
   ]
  },
  {
   "cell_type": "markdown",
   "metadata": {},
   "source": [
    "Which produces the following output:\n",
    "```\n",
    "From stephen.marquard@uct.ac.za Sat Jan  5 09:14:16 2008\n",
    "X-Authentication-Warning: set sender to stephen.marquard@uct.ac.za using -f\n",
    "From: stephen.marquard@uct.ac.za\n",
    "Author: stephen.marquard@uct.ac.za\n",
    "From david.horwitz@uct.ac.za Fri Jan  4 07:02:32 2008\n",
    "X-Authentication-Warning: set sender to david.horwitz@uct.ac.za using -f\n",
    "From: david.horwitz@uct.ac.za\n",
    "Author: david.horwitz@uct.ac.za\n",
    "...\n",
    "```"
   ]
  },
  {
   "cell_type": "markdown",
   "metadata": {},
   "source": [
    "## Letting the user choose the file name\n",
    "\n",
    "We really do not want to have to edit our Python code every time we want to process a different file. It would be more usable to ask the user to enter the file name string each time the program runs so they can use our program on different files without changing the Python code.\n",
    "\n",
    "This is quite simple to do by reading the file name from the user using `input` as follows:"
   ]
  },
  {
   "cell_type": "code",
   "execution_count": null,
   "metadata": {},
   "outputs": [],
   "source": [
    "fname = input('Enter the file name: ')\n",
    "fhand = open(fname)\n",
    "count = 0\n",
    "for line in fhand:\n",
    "    if line.startswith('Subject:'):\n",
    "        count = count + 1\n",
    "print('There were', count, 'subject lines in', fname)\n",
    "\n",
    "# Code: http://www.py4e.com/code3/search6.py"
   ]
  },
  {
   "cell_type": "markdown",
   "metadata": {},
   "source": [
    "We read the file name from the user and place it in a variable named `fname` and open that file. Now we can run the program repeatedly on different files.\n",
    "\n",
    "```\n",
    "python search6.py\n",
    "Enter the file name: data/mbox.txt\n",
    "There were 1797 subject lines in mbox.txt\n",
    "\n",
    "python search6.py\n",
    "Enter the file name: data/mbox-short.txt\n",
    "There were 27 subject lines in mbox-short.txt\n",
    "```\n",
    "\n",
    "Before peeking at the next section, take a look at the above program and ask yourself, \"What could go possibly wrong here?\" or \"What might our friendly user do that would cause our nice little program to ungracefully exit with a traceback, making us look not-so-cool in the eyes of our users?\""
   ]
  },
  {
   "cell_type": "markdown",
   "metadata": {},
   "source": [
    "## Using *try*, *except*, and *open*\n",
    "\n",
    "I told you not to peek. This is your last chance.\n",
    "\n",
    "What if our user types something that is not a file name?\n",
    "\n",
    "```\n",
    "python search6.py\n",
    "Enter the file name: missing.txt\n",
    "Traceback (most recent call last):\n",
    "  File \"search6.py\", line 2, in <module>\n",
    "    fhand = open(fname)\n",
    "FileNotFoundError: [Errno 2] No such file or directory: 'missing.txt'\n",
    "\n",
    "python search6.py\n",
    "Enter the file name: na na boo boo\n",
    "Traceback (most recent call last):\n",
    "  File \"search6.py\", line 2, in <module>\n",
    "    fhand = open(fname)\n",
    "FileNotFoundError: [Errno 2] No such file or directory: 'na na boo boo'\n",
    "```\n",
    "Do not laugh. Users will eventually do every possible thing they can do to break your programs, either on purpose or with malicious intent. As a matter of fact, an important part of any software development team is a person or group called *Quality Assurance* (or QA for short) whose very job it is to do the craziest things possible in an attempt to break the software that the programmer has created.\n",
    "\n",
    "The QA team is responsible for finding the flaws in programs before we have delivered the program to the end users who may be purchasing the software or paying our salary to write the software. So the QA team is the programmer's best friend.\n",
    "\n",
    "So now that we see the flaw in the program, we can elegantly fix it using the `try`/`except` structure. We need to assume that the `open` call might fail and add recovery code when the `open` fails as follows:"
   ]
  },
  {
   "cell_type": "code",
   "execution_count": null,
   "metadata": {},
   "outputs": [],
   "source": [
    "fname = input('Enter the file name: ')\n",
    "try: \n",
    "    fhand = open(fname)\n",
    "except:\n",
    "    print('File cannot be opened:', fname)\n",
    "    exit()\n",
    "count = 0\n",
    "for line in fhand:\n",
    "    if line.startswith('Subject:'):\n",
    "        count = count + 1\n",
    "print('There were', count, 'subject lines in', fname)\n",
    "\n",
    "# Code: http://www.py4e.com/code3/search7.py"
   ]
  },
  {
   "cell_type": "markdown",
   "metadata": {},
   "source": [
    "The `exit` function terminates the program (or this notebook). It is a function that we call that never returns. Now when our user (or QA team) types in silliness or bad file names, we \"catch\" them and recover gracefully:\n",
    "```\n",
    "python search7.py\n",
    "Enter the file name: mbox.txt\n",
    "There were 1797 subject lines in mbox.txt\n",
    "\n",
    "python search7.py\n",
    "Enter the file name: na na boo boo\n",
    "File cannot be opened: na na boo boo\n",
    "```\n",
    "Protecting the `open` call is a good example of the proper use of `try` and `except` in a Python program. We use the term \"Pythonic\" when we are doing something the \"Python way\". We might say that the above example is the Pythonic way to open a file.\n",
    "\n",
    "Once you become more skilled in Python, you can engage in repartee with other Python programmers to decide which of two equivalent solutions to a problem is \"more Pythonic\". The goal to be \"more Pythonic\" captures the notion that programming is part engineering and part art. We are not always interested in just making something work, we also want our solution to be elegant and to be appreciated as elegant by our peers."
   ]
  },
  {
   "cell_type": "markdown",
   "metadata": {},
   "source": [
    "## Writing files\n",
    "\n",
    "To write a file, you have to open it with mode \"w\" as a second parameter:"
   ]
  },
  {
   "cell_type": "code",
   "execution_count": 10,
   "metadata": {},
   "outputs": [
    {
     "name": "stdout",
     "output_type": "stream",
     "text": [
      "<_io.TextIOWrapper name='output.txt' mode='w' encoding='UTF-8'>\n"
     ]
    }
   ],
   "source": [
    "fout = open('output.txt', 'w')\n",
    "print(fout)"
   ]
  },
  {
   "cell_type": "markdown",
   "metadata": {},
   "source": [
    "If the file already exists, opening it in write mode clears out the old data and starts fresh, so be careful! If the file doesn't exist, a new one is created.\n",
    "\n",
    "The `write` method of the file handle object puts data into the file, returning the number of characters written. The default write mode is text for writing (and reading) strings."
   ]
  },
  {
   "cell_type": "code",
   "execution_count": 11,
   "metadata": {},
   "outputs": [
    {
     "data": {
      "text/plain": [
       "24"
      ]
     },
     "execution_count": 11,
     "metadata": {},
     "output_type": "execute_result"
    }
   ],
   "source": [
    "line1 = \"This here's the wattle,\\n\"\n",
    "fout.write(line1)"
   ]
  },
  {
   "cell_type": "markdown",
   "metadata": {},
   "source": [
    "Again, the file object keeps track of where it is, so if you call `write` again, it adds the new data to the end.\n",
    "\n",
    "We must make sure to manage the ends of lines as we write to the file by explicitly inserting the newline character when we want to end a line. The `print` statement automatically appends a newline, but the `write` method does not add the newline automatically."
   ]
  },
  {
   "cell_type": "code",
   "execution_count": 12,
   "metadata": {},
   "outputs": [
    {
     "data": {
      "text/plain": [
       "24"
      ]
     },
     "execution_count": 12,
     "metadata": {},
     "output_type": "execute_result"
    }
   ],
   "source": [
    "line2 = 'the emblem of our land.\\n'\n",
    "fout.write(line2)"
   ]
  },
  {
   "cell_type": "markdown",
   "metadata": {},
   "source": [
    "When you are done writing, you have to close the file to make sure that the last bit of data is physically written to the disk so it will not be lost if the power goes off."
   ]
  },
  {
   "cell_type": "code",
   "execution_count": 13,
   "metadata": {},
   "outputs": [],
   "source": [
    "fout.close()"
   ]
  },
  {
   "cell_type": "markdown",
   "metadata": {},
   "source": [
    "We could close the files which we open for read as well, but we can be a little sloppy if we are only opening a few files since Python makes sure that all open files are closed when the program ends. When we are writing files, we want to explicitly close the files so as to leave nothing to chance."
   ]
  },
  {
   "cell_type": "markdown",
   "metadata": {},
   "source": [
    "## Debugging\n",
    "\n",
    "When you are reading and writing files, you might run into problems with whitespace. These errors can be hard to debug because spaces, tabs, and newlines are normally invisible:"
   ]
  },
  {
   "cell_type": "code",
   "execution_count": null,
   "metadata": {},
   "outputs": [],
   "source": [
    "s = '1 2\\t 3\\n 4'\n",
    "print(s)"
   ]
  },
  {
   "cell_type": "markdown",
   "metadata": {},
   "source": [
    "The built-in function `repr` can help. It takes any object as an argument and returns a string representation of the object. For strings, it represents whitespace characters with backslash sequences:"
   ]
  },
  {
   "cell_type": "code",
   "execution_count": null,
   "metadata": {},
   "outputs": [],
   "source": [
    "print(repr(s))"
   ]
  },
  {
   "cell_type": "markdown",
   "metadata": {},
   "source": [
    "This can be helpful for debugging.\n",
    "\n",
    "One other problem you might run into is that different systems use different characters to indicate the end of a line. Some systems use a newline, represented `\\n`. Others use a return character, represented `\\r`. Some use both. If you move files between different systems, these inconsistencies might cause problems.\n",
    "\n",
    "For most systems, there are applications to convert from one format to another. You can find them (and read more about this issue) at [https://wikipedia.org/wiki/Newline](https://wikipedia.org/wiki/Newline). Or, of course, you could write one yourself."
   ]
  },
  {
   "cell_type": "markdown",
   "metadata": {},
   "source": [
    "---\n",
    "## Glossary\n",
    "\n",
    "### catch\n",
    "To prevent an exception from terminating a program using the try and except statements. \n",
    "\n",
    "### newline\n",
    "A special character used in files and strings to indicate the end of a line. \n",
    "\n",
    "### Pythonic\n",
    "A technique that works elegantly in Python. \"Using try and except is the Pythonic way to recover from missing files\". \n",
    "\n",
    "### Quality Assurance\n",
    "A person or team focused on insuring the overall quality of a software product. QA is often involved in testing a product and identifying problems before the product is released. \n",
    "\n",
    "### text file\n",
    "A sequence of characters stored in permanent storage like a hard drive. "
   ]
  },
  {
   "cell_type": "markdown",
   "metadata": {},
   "source": [
    "---\n",
    "## Exercises\n",
    "\n",
    "### Exercise 1:\n",
    "\n",
    "Write a program to read through a file and print the contents of the file (line by line) all in upper case. Executing the program will look as follows:\n",
    "```\n",
    "python shout.py\n",
    "Enter a file name: data/mbox-short.txt\n",
    "FROM STEPHEN.MARQUARD@UCT.AC.ZA SAT JAN  5 09:14:16 2008\n",
    "RETURN-PATH: <POSTMASTER@COLLAB.SAKAIPROJECT.ORG>\n",
    "RECEIVED: FROM MURDER (MAIL.UMICH.EDU [141.211.14.90])\n",
    "     BY FRANKENSTEIN.MAIL.UMICH.EDU (CYRUS V2.3.8) WITH LMTPA;\n",
    "     SAT, 05 JAN 2008 09:14:16 -0500\n",
    "```"
   ]
  },
  {
   "cell_type": "markdown",
   "metadata": {},
   "source": [
    "### Exercise 2:\n",
    "\n",
    "Write a program to prompt for a file name, and then read through the file and look for lines of the form:\n",
    "```\n",
    "X-DSPAM-Confidence:0.8475\n",
    "```\n",
    "\n",
    "When you encounter a line that starts with \"X-DSPAM-Confidence:\" pull apart the line to extract the floating-point number on the line. Count these lines and then compute the total of the spam confidence values from these lines. When you reach the end of the file, print out the average spam confidence.\n",
    "\n",
    "```\n",
    "Enter the file name: data/mbox.txt\n",
    "Average spam confidence: 0.894128046745\n",
    "\n",
    "Enter the file name: data/mbox-short.txt\n",
    "Average spam confidence: 0.750718518519\n",
    "```\n",
    "\n",
    "Test your file on the `mbox.txt` and `mbox-short.txt` files."
   ]
  },
  {
   "cell_type": "markdown",
   "metadata": {},
   "source": [
    "### Exercise 3:\n",
    "\n",
    "Sometimes when programmers get bored or want to have a bit of fun, they add a harmless *Easter Egg* to their program Modify the program that prompts the user for the file name so that it prints a funny message when the user types in the exact file name \"na na boo boo\". The program should behave normally for all other files which exist and don't exist. Here is a sample execution of the program:\n",
    "\n",
    "```\n",
    "python egg.py\n",
    "Enter the file name: data/mbox.txt\n",
    "There were 1797 subject lines in data/mbox.txt\n",
    "\n",
    "python egg.py\n",
    "Enter the file name: missing.tyxt\n",
    "File cannot be opened: missing.tyxt\n",
    "\n",
    "python egg.py\n",
    "Enter the file name: na na boo boo\n",
    "NA NA BOO BOO TO YOU - You have been punk'd!\n",
    "```\n",
    "\n",
    "We are not encouraging you to put Easter Eggs in your programs; this is just an exercise."
   ]
  },
  {
   "cell_type": "markdown",
   "metadata": {},
   "source": [
    "---\n",
    "\n",
    "## Acknowledgements\n",
    "\n",
    "Text © Charles R. Severance. Interactive HTML © Trinket. Both provided under a CC-NC-BY-SA license.\n",
    "A huge thanks to the project's many contributors!"
   ]
  }
 ],
 "metadata": {
  "kernelspec": {
   "display_name": "Python 3",
   "language": "python",
   "name": "python3"
  },
  "language_info": {
   "codemirror_mode": {
    "name": "ipython",
    "version": 3
   },
   "file_extension": ".py",
   "mimetype": "text/x-python",
   "name": "python",
   "nbconvert_exporter": "python",
   "pygments_lexer": "ipython3",
   "version": "3.8.6"
  }
 },
 "nbformat": 4,
 "nbformat_minor": 4
}
