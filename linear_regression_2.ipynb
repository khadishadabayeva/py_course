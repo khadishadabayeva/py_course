{
 "cells": [
  {
   "cell_type": "markdown",
   "metadata": {
    "_cell_guid": "348aa307-aca4-4bb5-9c99-9841926cfe1b",
    "_uuid": "282e1fdd-c84f-4c2a-b93f-ef332f312faf"
   },
   "source": [
    "# PyTorch basics - Linear Regression from scratch\n",
    "\n",
    "<!-- <iframe width=\"560\" height=\"315\" src=\"https://www.youtube.com/embed/ECHX1s0Kk-o?controls=0\" frameborder=\"0\" allow=\"accelerometer; autoplay; encrypted-media; gyroscope; picture-in-picture\" allowfullscreen></iframe> -->\n",
    "\n",
    "Tutorial inspired from [FastAI development notebooks](https://github.com/fastai/fastai_v1/tree/master/dev_nb)\n",
    "\n",
    "## Machine Learning\n",
    "\n",
    "<img src=\"https://i.imgur.com/oJEQe7k.png\" width=\"500\">\n",
    "\n",
    "\n",
    "## Tensors & Gradients"
   ]
  },
  {
   "cell_type": "code",
   "execution_count": 8,
   "metadata": {
    "_cell_guid": "5215c6d9-ccc7-47f9-a0ee-b246edf65e49",
    "_uuid": "3cfda1d1-030a-45f0-a5b1-da10d9a56a10"
   },
   "outputs": [],
   "source": [
    "# Import Numpy & PyTorch\n",
    "import numpy as np\n",
    "import torch"
   ]
  },
  {
   "cell_type": "markdown",
   "metadata": {
    "_cell_guid": "f4080b07-17c6-4f14-acaf-2cc25ebc56fe",
    "_uuid": "91288c21-7d2b-447b-ba30-05907aeca9d0"
   },
   "source": [
    "A tensor is a number, vector, matrix or any n-dimensional array."
   ]
  },
  {
   "cell_type": "code",
   "execution_count": 9,
   "metadata": {
    "_cell_guid": "c94bff8c-7e81-4352-b075-450f185130bf",
    "_uuid": "5c88cd09-1431-437a-8bf7-0356c49cb3a6"
   },
   "outputs": [],
   "source": [
    "# Create tensors.\n",
    "x = torch.tensor(3.)\n",
    "w = torch.tensor(4., requires_grad=True)\n",
    "b = torch.tensor(5., requires_grad=True)"
   ]
  },
  {
   "cell_type": "code",
   "execution_count": 10,
   "metadata": {
    "_cell_guid": "f10165e6-e8c7-4640-bf90-489dc519a076",
    "_uuid": "4da41937-cf12-4e89-8929-360c973eef12"
   },
   "outputs": [
    {
     "name": "stdout",
     "output_type": "stream",
     "text": [
      "tensor(3.)\n",
      "tensor(4., requires_grad=True)\n",
      "tensor(5., requires_grad=True)\n"
     ]
    }
   ],
   "source": [
    "# Print tensors\n",
    "print(x)\n",
    "print(w)\n",
    "print(b)"
   ]
  },
  {
   "cell_type": "markdown",
   "metadata": {
    "_cell_guid": "23296d9e-75ac-41fe-be76-85fed84bfb36",
    "_uuid": "23df7649-e43d-442a-97e6-1234ce4d7434"
   },
   "source": [
    "We can combine tensors with the usual arithmetic operations."
   ]
  },
  {
   "cell_type": "code",
   "execution_count": 11,
   "metadata": {
    "_cell_guid": "cf044785-8dae-4977-b76d-42a116526725",
    "_uuid": "5b39bfb0-7dd5-4a56-83e9-2f1963870a7b"
   },
   "outputs": [
    {
     "name": "stdout",
     "output_type": "stream",
     "text": [
      "tensor(17., grad_fn=<AddBackward0>)\n"
     ]
    }
   ],
   "source": [
    "# Arithmetic operations\n",
    "y = w * x + b\n",
    "print(y)"
   ]
  },
  {
   "cell_type": "markdown",
   "metadata": {
    "_cell_guid": "7a40b680-6dbb-4354-aa75-3ccc2d79f60e",
    "_uuid": "0352c9f9-f381-4823-8569-8e3e1d0f5f28"
   },
   "source": [
    "What makes PyTorch special, is that we can automatically compute the derivative of `y` w.r.t. the tensors that have `requires_grad` set to `True` i.e. `w` and `b`."
   ]
  },
  {
   "cell_type": "code",
   "execution_count": 12,
   "metadata": {
    "_cell_guid": "19bbe12b-ba7d-49b1-a4cc-171b6e90fd8a",
    "_uuid": "7dccb2aa-e882-4ee6-ab09-b7077aa0f662"
   },
   "outputs": [],
   "source": [
    "# Compute gradients\n",
    "y.backward()"
   ]
  },
  {
   "cell_type": "code",
   "execution_count": 13,
   "metadata": {
    "_cell_guid": "ccca67d9-4105-4102-a01a-11553dca599d",
    "_uuid": "7e48cb0d-dd50-485c-b376-189c27ffc1fc"
   },
   "outputs": [
    {
     "name": "stdout",
     "output_type": "stream",
     "text": [
      "dy/dw: tensor(3.)\n",
      "dy/db: tensor(1.)\n"
     ]
    }
   ],
   "source": [
    "# Display gradients\n",
    "print('dy/dw:', w.grad)\n",
    "print('dy/db:', b.grad)"
   ]
  },
  {
   "cell_type": "markdown",
   "metadata": {
    "_cell_guid": "26137373-fca4-404d-b0e2-39a3fd1e9e77",
    "_uuid": "9b21f016-f19b-42fa-a2e7-cd6d63e27df6"
   },
   "source": [
    "## Problem Statement"
   ]
  },
  {
   "cell_type": "markdown",
   "metadata": {
    "_cell_guid": "98a61b13-4b2e-4146-a89b-d840db8079c2",
    "_uuid": "283f5705-a43c-49bc-9bfc-419e735ae41a"
   },
   "source": [
    "We'll create a model that predicts crop yields for apples and oranges (*target variables*) by looking at the average temperature, rainfall and humidity (*input variables or features*) in a region. Here's the training data:\n",
    "\n",
    "<img src=\"https://i.imgur.com/lBguUV9.png\" width=\"500\" />\n",
    "\n",
    "In a **linear regression** model, each target variable is estimated to be a weighted sum of the input variables, offset by some constant, known as a bias :\n",
    "\n",
    "```\n",
    "yeild_apple  = w11 * temp + w12 * rainfall + w13 * humidity + b1\n",
    "yeild_orange = w21 * temp + w22 * rainfall + w23 * humidity + b2\n",
    "```\n",
    "\n",
    "Visually, it means that the yield of apples is a linear or planar function of the temperature, rainfall & humidity.\n",
    "\n",
    "<img src=\"https://i.imgur.com/mtkR2lB.png\" width=\"540\" >\n",
    "\n",
    "\n",
    "**Our objective**: Find a suitable set of *weights* and *biases* using the training data, to make accurate predictions."
   ]
  },
  {
   "cell_type": "markdown",
   "metadata": {
    "_cell_guid": "c07cf14b-0196-4141-96af-9dbc7075903b",
    "_uuid": "f84b9ecc-cebc-40f1-bbf9-45a74556149e"
   },
   "source": [
    "## Training Data\n",
    "The training data can be represented using 2 matrices (inputs and targets), each with one row per observation and one column per variable."
   ]
  },
  {
   "cell_type": "code",
   "execution_count": 14,
   "metadata": {
    "_cell_guid": "18dfc627-af32-4c36-958c-653cd81b00c0",
    "_uuid": "0c770a9c-ef48-4509-a261-2d956aacd241"
   },
   "outputs": [],
   "source": [
    "# Input (temp, rainfall, humidity)\n",
    "inputs = np.array([[73, 67, 43], \n",
    "                   [91, 88, 64], \n",
    "                   [87, 134, 58], \n",
    "                   [102, 43, 37], \n",
    "                   [69, 96, 70]], dtype='float32')"
   ]
  },
  {
   "cell_type": "code",
   "execution_count": 15,
   "metadata": {
    "_cell_guid": "7fdb7ddb-b098-434d-82ef-c12c8889cf0f",
    "_uuid": "4da5d766-0d83-4851-8893-1a0f1136a0d5"
   },
   "outputs": [],
   "source": [
    "# Targets (apples, oranges)\n",
    "targets = np.array([[56, 70], \n",
    "                    [81, 101], \n",
    "                    [119, 133], \n",
    "                    [22, 37], \n",
    "                    [103, 119]], dtype='float32')"
   ]
  },
  {
   "cell_type": "markdown",
   "metadata": {
    "_cell_guid": "c3c5f573-69cb-46d3-b0f8-287138d81a16",
    "_uuid": "a887c9d9-75c5-4b91-91a7-a6ec59680aa5"
   },
   "source": [
    "Before we build a model, we need to convert inputs and targets to PyTorch tensors."
   ]
  },
  {
   "cell_type": "code",
   "execution_count": 16,
   "metadata": {
    "_cell_guid": "08eaee93-0d55-4759-a2c9-136d17860254",
    "_uuid": "c8729524-87bd-402a-9950-02213d795c8a"
   },
   "outputs": [
    {
     "name": "stdout",
     "output_type": "stream",
     "text": [
      "tensor([[ 73.,  67.,  43.],\n",
      "        [ 91.,  88.,  64.],\n",
      "        [ 87., 134.,  58.],\n",
      "        [102.,  43.,  37.],\n",
      "        [ 69.,  96.,  70.]])\n",
      "tensor([[ 56.,  70.],\n",
      "        [ 81., 101.],\n",
      "        [119., 133.],\n",
      "        [ 22.,  37.],\n",
      "        [103., 119.]])\n"
     ]
    }
   ],
   "source": [
    "# Convert inputs and targets to tensors\n",
    "inputs = torch.from_numpy(inputs)\n",
    "targets = torch.from_numpy(targets)\n",
    "print(inputs)\n",
    "print(targets)"
   ]
  },
  {
   "cell_type": "markdown",
   "metadata": {
    "_cell_guid": "466aa166-9aa5-4766-a864-fb7bba521b16",
    "_uuid": "a20b1d6f-6ef0-4f59-9197-54292945c1c1"
   },
   "source": [
    "## Linear Regression Model (from scratch)\n",
    "\n",
    "The *weights* and *biases* can also be represented as matrices, initialized with random values. The first row of `w` and the first element of `b` are use to predict the first target variable i.e. yield for apples, and similarly the second for oranges."
   ]
  },
  {
   "cell_type": "code",
   "execution_count": 19,
   "metadata": {
    "_cell_guid": "d4bc14bf-695c-4573-ae15-7c9fcb2833e1",
    "_uuid": "6399a9b2-57f8-4ea6-a44e-77bc33207987"
   },
   "outputs": [
    {
     "name": "stdout",
     "output_type": "stream",
     "text": [
      "tensor([[-1.2529, -0.3352, -0.4212],\n",
      "        [ 0.4591, -0.0904, -0.8167]], requires_grad=True)\n",
      "tensor([-1.2539,  0.6971], requires_grad=True)\n"
     ]
    }
   ],
   "source": [
    "# Weights and biases\n",
    "w = torch.randn(2, 3, requires_grad=True)\n",
    "b = torch.randn(2, requires_grad=True)\n",
    "print(w)\n",
    "print(b)"
   ]
  },
  {
   "cell_type": "markdown",
   "metadata": {
    "_cell_guid": "8236a4b3-3602-46dc-b79d-bf9695780b26",
    "_uuid": "3a8010ba-e927-4fda-a9bc-45505f8b3254"
   },
   "source": [
    "The *model* is simply a function that performs a matrix multiplication of the input `x` and the weights `w` (transposed) and adds the bias `b` (replicated for each observation).\n",
    "\n",
    "$$\n",
    "\\hspace{2.5cm} X \\hspace{1.1cm} \\times \\hspace{1.2cm} W^T \\hspace{1.2cm}  + \\hspace{1cm} b \\hspace{2cm}\n",
    "$$\n",
    "\n",
    "$$\n",
    "\\left[ \\begin{array}{cc}\n",
    "73 & 67 & 43 \\\\\n",
    "91 & 88 & 64 \\\\\n",
    "\\vdots & \\vdots & \\vdots \\\\\n",
    "69 & 96 & 70\n",
    "\\end{array} \\right]\n",
    "%\n",
    "\\times\n",
    "%\n",
    "\\left[ \\begin{array}{cc}\n",
    "w_{11} & w_{21} \\\\\n",
    "w_{12} & w_{22} \\\\\n",
    "w_{13} & w_{23}\n",
    "\\end{array} \\right]\n",
    "%\n",
    "+\n",
    "%\n",
    "\\left[ \\begin{array}{cc}\n",
    "b_{1} & b_{2} \\\\\n",
    "b_{1} & b_{2} \\\\\n",
    "\\vdots & \\vdots \\\\\n",
    "b_{1} & b_{2} \\\\\n",
    "\\end{array} \\right]\n",
    "$$"
   ]
  },
  {
   "cell_type": "code",
   "execution_count": 20,
   "metadata": {
    "_cell_guid": "c0234c33-2f66-4444-ad76-484808dcef26",
    "_uuid": "b2f7632b-60d6-4cdf-be33-8187f0416d6f"
   },
   "outputs": [],
   "source": [
    "# Define the model\n",
    "def model(x):\n",
    "    return x @ w.t() + b"
   ]
  },
  {
   "cell_type": "markdown",
   "metadata": {
    "_cell_guid": "3cb42315-0c39-4092-a6de-1fbed20bd696",
    "_uuid": "f360cb43-9dd4-4ba8-bed8-b8e55174abf9"
   },
   "source": [
    "The matrix obtained by passing the input data to the model is a set of predictions for the target variables."
   ]
  },
  {
   "cell_type": "code",
   "execution_count": 22,
   "metadata": {
    "_cell_guid": "cdcb159a-a1a7-47e7-893a-96f5fb704556",
    "_uuid": "3ee72922-a836-4940-8a91-e41b7f701fc7"
   },
   "outputs": [
    {
     "name": "stdout",
     "output_type": "stream",
     "text": [
      "tensor([[-133.2837,   -6.9608],\n",
      "        [-171.7200,  -17.7454],\n",
      "        [-179.6010,  -18.8382],\n",
      "        [-159.0443,   13.4226],\n",
      "        [-149.3660,  -33.4692]], grad_fn=<AddBackward0>)\n"
     ]
    }
   ],
   "source": [
    "# Generate predictions\n",
    "preds = model(inputs)\n",
    "print(preds)"
   ]
  },
  {
   "cell_type": "code",
   "execution_count": 23,
   "metadata": {
    "_cell_guid": "410fa05c-54d3-4d32-84b8-4b00eeadf81e",
    "_uuid": "fe419a3e-2503-4a0e-8657-93cd176aecb7"
   },
   "outputs": [
    {
     "name": "stdout",
     "output_type": "stream",
     "text": [
      "tensor([[ 56.,  70.],\n",
      "        [ 81., 101.],\n",
      "        [119., 133.],\n",
      "        [ 22.,  37.],\n",
      "        [103., 119.]])\n"
     ]
    }
   ],
   "source": [
    "# Compare with targets\n",
    "print(targets)"
   ]
  },
  {
   "cell_type": "markdown",
   "metadata": {
    "_cell_guid": "cea3dbc6-8997-4742-a8f8-480fcf785bd9",
    "_uuid": "16af6d43-85fe-47f0-96b2-e9a29e120a16"
   },
   "source": [
    "Because we've started with random weights and biases, the model does not a very good job of predicting the target varaibles."
   ]
  },
  {
   "cell_type": "markdown",
   "metadata": {
    "_cell_guid": "f1f1094c-368b-4fd9-927a-56069ec9765b",
    "_uuid": "84acfcb8-e162-4cec-9bf7-510a9a85868a"
   },
   "source": [
    "## Loss Function\n",
    "\n",
    "We can compare the predictions with the actual targets, using the following method: \n",
    "* Calculate the difference between the two matrices (`preds` and `targets`).\n",
    "* Square all elements of the difference matrix to remove negative values.\n",
    "* Calculate the average of the elements in the resulting matrix.\n",
    "\n",
    "The result is a single number, known as the **mean squared error** (MSE)."
   ]
  },
  {
   "cell_type": "code",
   "execution_count": 24,
   "metadata": {
    "_cell_guid": "2787a92d-c7c9-47ae-a275-2248676daecb",
    "_uuid": "d64ce0ec-31b9-4123-9230-cefc602980bb"
   },
   "outputs": [],
   "source": [
    "# MSE loss\n",
    "def mse(t1, t2):\n",
    "    diff = t1 - t2\n",
    "    return torch.sum(diff * diff) / diff.numel()"
   ]
  },
  {
   "cell_type": "code",
   "execution_count": 25,
   "metadata": {
    "_cell_guid": "27e366cc-67ef-49ae-a388-7642092d6673",
    "_uuid": "9aeba5fd-3c2d-4e3f-9b22-0701803b4cd9"
   },
   "outputs": [
    {
     "name": "stdout",
     "output_type": "stream",
     "text": [
      "tensor(35220.4922, grad_fn=<DivBackward0>)\n"
     ]
    }
   ],
   "source": [
    "# Compute loss\n",
    "loss = mse(preds, targets)\n",
    "print(loss)"
   ]
  },
  {
   "cell_type": "markdown",
   "metadata": {
    "_cell_guid": "2769a999-6a39-43b5-96d9-eb5ee6c7948c",
    "_uuid": "e6615622-e17f-40fa-91ba-7f13fc6aebf1"
   },
   "source": [
    "The resulting number is called the **loss**, because it indicates how bad the model is at predicting the target variables. Lower the loss, better the model."
   ]
  },
  {
   "cell_type": "markdown",
   "metadata": {
    "_cell_guid": "9d40aed4-7ef5-4357-82ad-ec948c8528f9",
    "_uuid": "890368f6-f08e-4eb6-a2aa-ea52e6c6c7ac"
   },
   "source": [
    "## Compute Gradients\n",
    "\n",
    "With PyTorch, we can automatically compute the gradient or derivative of the `loss` w.r.t. to the weights and biases, because they have `requires_grad` set to `True`."
   ]
  },
  {
   "cell_type": "code",
   "execution_count": 26,
   "metadata": {
    "_cell_guid": "0009a9cb-91a3-4772-a332-e2b59c054843",
    "_uuid": "e9d91a57-8389-4f96-9aba-0220fabdcca1"
   },
   "outputs": [],
   "source": [
    "# Compute gradients\n",
    "loss.backward()"
   ]
  },
  {
   "cell_type": "markdown",
   "metadata": {
    "_cell_guid": "e6f2fa5e-03aa-4d9e-b4c6-1e91517871c7",
    "_uuid": "be1f2dc1-9a7f-4eac-a41f-9c21adf1fe36"
   },
   "source": [
    "The gradients are stored in the `.grad` property of the respective tensors."
   ]
  },
  {
   "cell_type": "code",
   "execution_count": 27,
   "metadata": {
    "_cell_guid": "3af94c1f-d249-4e80-a896-f612befcfbff",
    "_uuid": "60c2945d-3476-4a69-9638-54ef349ead2b"
   },
   "outputs": [
    {
     "name": "stdout",
     "output_type": "stream",
     "text": [
      "tensor([[-1.2529, -0.3352, -0.4212],\n",
      "        [ 0.4591, -0.0904, -0.8167]], requires_grad=True)\n",
      "tensor([[-19734.6582, -21389.1895, -13199.2803],\n",
      "        [ -8511.8320, -10320.6318,  -6252.1689]])\n"
     ]
    }
   ],
   "source": [
    "# Gradients for weights\n",
    "print(w)\n",
    "print(w.grad)"
   ]
  },
  {
   "cell_type": "code",
   "execution_count": 28,
   "metadata": {
    "_cell_guid": "eed61ad6-bac3-4e79-b802-42f8bab910d8",
    "_uuid": "9188d8ae-76e7-4357-8e82-982b34a6b9a6"
   },
   "outputs": [
    {
     "name": "stdout",
     "output_type": "stream",
     "text": [
      "tensor([-1.2539,  0.6971], requires_grad=True)\n",
      "tensor([-234.8030, -104.7182])\n"
     ]
    }
   ],
   "source": [
    "# Gradients for bias\n",
    "print(b)\n",
    "print(b.grad)"
   ]
  },
  {
   "cell_type": "markdown",
   "metadata": {
    "_cell_guid": "3da9beb4-1eec-4976-98a2-6058c86f9b40",
    "_uuid": "d86fc281-912b-44de-813d-065cd60bdd4b"
   },
   "source": [
    "A key insight from calculus is that the gradient indicates the rate of change of the loss, or the slope of the loss function w.r.t. the weights and biases. \n",
    "\n",
    "* If a gradient element is **postive**, \n",
    "    * **increasing** the element's value slightly will **increase** the loss.\n",
    "    * **decreasing** the element's value slightly will **decrease** the loss.\n",
    "\n",
    "<img src=\"https://i.imgur.com/2H4INoV.png\" width=\"400\" />\n",
    "\n",
    "\n",
    "\n",
    "* If a gradient element is **negative**,\n",
    "    * **increasing** the element's value slightly will **decrease** the loss.\n",
    "    * **decreasing** the element's value slightly will **increase** the loss.\n",
    "    \n",
    "<img src=\"https://i.imgur.com/h7E2uAv.png\" width=\"400\" />    \n",
    "\n",
    "The increase or decrease is proportional to the value of the gradient."
   ]
  },
  {
   "cell_type": "markdown",
   "metadata": {
    "_cell_guid": "d836b697-7ac0-442f-bc8a-2e55acd333d6",
    "_uuid": "5be6c0ef-be14-4d5e-b3f9-45c9bf6eeec7"
   },
   "source": [
    "Finally, we'll reset the gradients to zero before moving forward, because PyTorch accumulates gradients."
   ]
  },
  {
   "cell_type": "code",
   "execution_count": 29,
   "metadata": {
    "_cell_guid": "09cf78a9-5272-402b-8cf6-d45df69f541a",
    "_uuid": "a8476b90-d219-46d6-aaea-f7bc4eb8afb5"
   },
   "outputs": [
    {
     "name": "stdout",
     "output_type": "stream",
     "text": [
      "tensor([[0., 0., 0.],\n",
      "        [0., 0., 0.]])\n",
      "tensor([0., 0.])\n"
     ]
    }
   ],
   "source": [
    "w.grad.zero_()\n",
    "b.grad.zero_()\n",
    "print(w.grad)\n",
    "print(b.grad)"
   ]
  },
  {
   "cell_type": "markdown",
   "metadata": {
    "_cell_guid": "5904da3e-4159-4d11-9d2c-863873bc2a80",
    "_uuid": "28aa3b43-2b6b-4019-994c-332d01bd1992"
   },
   "source": [
    "## Adjust weights and biases using gradient descent\n",
    "\n",
    "We'll reduce the loss and improve our model using the gradient descent algorithm, which has the following steps:\n",
    "\n",
    "1. Generate predictions\n",
    "2. Calculate the loss\n",
    "3. Compute gradients w.r.t the weights and biases\n",
    "4. Adjust the weights by subtracting a small quantity proportional to the gradient\n",
    "5. Reset the gradients to zero"
   ]
  },
  {
   "cell_type": "code",
   "execution_count": 30,
   "metadata": {
    "_cell_guid": "b5e3682b-a5fd-4d59-9c47-ef7cdf320b8c",
    "_uuid": "545b7a23-d32e-4167-aa6e-3127825c1bf9"
   },
   "outputs": [
    {
     "name": "stdout",
     "output_type": "stream",
     "text": [
      "tensor([[-133.2837,   -6.9608],\n",
      "        [-171.7200,  -17.7454],\n",
      "        [-179.6010,  -18.8382],\n",
      "        [-159.0443,   13.4226],\n",
      "        [-149.3660,  -33.4692]], grad_fn=<AddBackward0>)\n"
     ]
    }
   ],
   "source": [
    "# Generate predictions\n",
    "preds = model(inputs)\n",
    "print(preds)"
   ]
  },
  {
   "cell_type": "code",
   "execution_count": 31,
   "metadata": {
    "_cell_guid": "0bd0dde8-3c16-4818-bb2c-c3216a0a24a4",
    "_uuid": "bf937365-08ba-4541-a268-49381ccc73cb"
   },
   "outputs": [
    {
     "name": "stdout",
     "output_type": "stream",
     "text": [
      "tensor(35220.4922, grad_fn=<DivBackward0>)\n"
     ]
    }
   ],
   "source": [
    "# Calculate the loss\n",
    "loss = mse(preds, targets)\n",
    "print(loss)"
   ]
  },
  {
   "cell_type": "code",
   "execution_count": 32,
   "metadata": {
    "_cell_guid": "22b3da0b-bd8a-4cc1-996b-e32d396fce0a",
    "_uuid": "f67f7408-f594-45b0-8138-bfcc143fa639"
   },
   "outputs": [],
   "source": [
    "# Compute gradients\n",
    "loss.backward()"
   ]
  },
  {
   "cell_type": "code",
   "execution_count": 33,
   "metadata": {
    "_cell_guid": "627e0211-6e5f-4150-9c6c-50469094a33d",
    "_uuid": "c9dedbe4-66e2-4d4e-865f-085e8978ede9"
   },
   "outputs": [],
   "source": [
    "# Adjust weights & reset gradients\n",
    "with torch.no_grad():\n",
    "    w -= w.grad * 1e-5\n",
    "    b -= b.grad * 1e-5\n",
    "    w.grad.zero_()\n",
    "    b.grad.zero_()"
   ]
  },
  {
   "cell_type": "code",
   "execution_count": 34,
   "metadata": {
    "_cell_guid": "29ed1234-c512-4148-90f5-e1e492faced2",
    "_uuid": "9ee27102-71fe-4419-a701-d62b354a6b6d"
   },
   "outputs": [
    {
     "name": "stdout",
     "output_type": "stream",
     "text": [
      "tensor([[-1.0555, -0.1213, -0.2892],\n",
      "        [ 0.5442,  0.0128, -0.7542]], requires_grad=True)\n"
     ]
    }
   ],
   "source": [
    "print(w)"
   ]
  },
  {
   "cell_type": "markdown",
   "metadata": {
    "_cell_guid": "60a7d7a9-2804-4e77-93cc-07f6dc2dd91a",
    "_uuid": "cc74bac9-67ed-4862-af46-3bbd0c42242c"
   },
   "source": [
    "With the new weights and biases, the model should have a lower loss."
   ]
  },
  {
   "cell_type": "code",
   "execution_count": 52,
   "metadata": {
    "_cell_guid": "a2e44a39-2468-4b34-a879-56f2cab04283",
    "_uuid": "93272e2d-5742-48e8-bba9-b93a75416e77"
   },
   "outputs": [
    {
     "name": "stdout",
     "output_type": "stream",
     "text": [
      "tensor(39.4020, grad_fn=<DivBackward0>)\n"
     ]
    }
   ],
   "source": [
    "# Calculate loss\n",
    "preds = model(inputs)\n",
    "loss = mse(preds, targets)\n",
    "print(loss)"
   ]
  },
  {
   "cell_type": "markdown",
   "metadata": {
    "_cell_guid": "0ec3fd35-ef35-412a-b6c9-6fd8e34e6972",
    "_uuid": "da29f60e-774a-4f57-abc7-4f92a21da831"
   },
   "source": [
    "## Train for multiple epochs\n",
    "\n",
    "To reduce the loss further, we repeat the process of adjusting the weights and biases using the gradients multiple times. Each iteration is called an epoch."
   ]
  },
  {
   "cell_type": "code",
   "execution_count": null,
   "metadata": {
    "_cell_guid": "309b6619-8253-4966-a15b-98eb4a0bd3ec",
    "_uuid": "8c7b2ae0-d568-47ea-bea4-37118afb68f2"
   },
   "outputs": [],
   "source": [
    "# Train for 100 epochs\n",
    "for i in range(100):\n",
    "    preds = model(inputs)\n",
    "    loss = mse(preds, targets)\n",
    "    loss.backward()\n",
    "    with torch.no_grad():\n",
    "        w -= w.grad * 1e-5\n",
    "        b -= b.grad * 1e-5\n",
    "        w.grad.zero_()\n",
    "        b.grad.zero_()"
   ]
  },
  {
   "cell_type": "code",
   "execution_count": 36,
   "metadata": {
    "_cell_guid": "1240d72c-c731-4646-ae8a-6f5284be1717",
    "_uuid": "40f57091-2805-47fa-bf87-9d52cedf8b15"
   },
   "outputs": [
    {
     "name": "stdout",
     "output_type": "stream",
     "text": [
      "tensor(23936.6680, grad_fn=<DivBackward0>)\n"
     ]
    }
   ],
   "source": [
    "# Calculate loss\n",
    "preds = model(inputs)\n",
    "loss = mse(preds, targets)\n",
    "print(loss)"
   ]
  },
  {
   "cell_type": "code",
   "execution_count": 37,
   "metadata": {
    "_cell_guid": "d8945bdb-392d-497d-8c2e-8bb6c6ffc2da",
    "_uuid": "3e15ff03-3c11-4fec-83ba-549be3d535aa"
   },
   "outputs": [
    {
     "data": {
      "text/plain": [
       "tensor([[ -98.8686,    8.8572],\n",
       "        [-126.4891,    3.0849],\n",
       "        [-126.1124,    6.0241],\n",
       "        [-124.8315,   28.8569],\n",
       "        [-105.9737,  -13.3107]], grad_fn=<AddBackward0>)"
      ]
     },
     "execution_count": 37,
     "metadata": {},
     "output_type": "execute_result"
    }
   ],
   "source": [
    "# Print predictions\n",
    "preds"
   ]
  },
  {
   "cell_type": "code",
   "execution_count": 38,
   "metadata": {
    "_cell_guid": "23b75785-d8d0-4af0-b9d0-2a1cca40a100",
    "_uuid": "83943982-55f2-4e47-bded-82f057318de8"
   },
   "outputs": [
    {
     "data": {
      "text/plain": [
       "tensor([[ 56.,  70.],\n",
       "        [ 81., 101.],\n",
       "        [119., 133.],\n",
       "        [ 22.,  37.],\n",
       "        [103., 119.]])"
      ]
     },
     "execution_count": 38,
     "metadata": {},
     "output_type": "execute_result"
    }
   ],
   "source": [
    "# Print targets\n",
    "targets"
   ]
  },
  {
   "cell_type": "markdown",
   "metadata": {
    "_cell_guid": "4ca8478c-cc05-4c3f-a377-e769c68344db",
    "_uuid": "05e49a89-276c-4eb3-8ec1-5c74b531eeb5"
   },
   "source": [
    "## Linear Regression Model using PyTorch built-ins\n",
    "\n",
    "Let's re-implement the same model using some built-in functions and classes from PyTorch."
   ]
  },
  {
   "cell_type": "code",
   "execution_count": 39,
   "metadata": {
    "_cell_guid": "9e9b9f45-c1d5-41f2-aeec-f4aec0e49a9d",
    "_uuid": "c5b349ed-571c-4f9f-b800-c940be5a4d09"
   },
   "outputs": [],
   "source": [
    "# Imports\n",
    "import torch.nn as nn"
   ]
  },
  {
   "cell_type": "code",
   "execution_count": 40,
   "metadata": {
    "_cell_guid": "e8db2f3b-a518-4d39-aa4f-ca0cef2b7205",
    "_uuid": "6c9d1103-f769-4b0e-afee-cd450219c697"
   },
   "outputs": [],
   "source": [
    "# Input (temp, rainfall, humidity)\n",
    "inputs = np.array([[73, 67, 43], [91, 88, 64], [87, 134, 58], [102, 43, 37], [69, 96, 70], [73, 67, 43], [91, 88, 64], [87, 134, 58], [102, 43, 37], [69, 96, 70], [73, 67, 43], [91, 88, 64], [87, 134, 58], [102, 43, 37], [69, 96, 70]], dtype='float32')\n",
    "# Targets (apples, oranges)\n",
    "targets = np.array([[56, 70], [81, 101], [119, 133], [22, 37], [103, 119], \n",
    "                    [56, 70], [81, 101], [119, 133], [22, 37], [103, 119], \n",
    "                    [56, 70], [81, 101], [119, 133], [22, 37], [103, 119]], dtype='float32')"
   ]
  },
  {
   "cell_type": "code",
   "execution_count": 41,
   "metadata": {
    "_cell_guid": "d75ae1e0-531a-4606-a1f4-fe1c9cbfbcc5",
    "_uuid": "371f5400-1fa5-4388-b928-00a377ff8911"
   },
   "outputs": [],
   "source": [
    "inputs = torch.from_numpy(inputs)\n",
    "targets = torch.from_numpy(targets)"
   ]
  },
  {
   "cell_type": "markdown",
   "metadata": {
    "_cell_guid": "b5a2672e-0f43-4145-88ca-08ed95620d5e",
    "_uuid": "5498ec0f-c4ce-402c-8151-d3bb7dc578ef"
   },
   "source": [
    "### Dataset and DataLoader\n",
    "\n",
    "We'll create a `TensorDataset`, which allows access to rows from `inputs` and `targets` as tuples. We'll also create a DataLoader, to split the data into batches while training. It also provides other utilities like shuffling and sampling."
   ]
  },
  {
   "cell_type": "code",
   "execution_count": 42,
   "metadata": {
    "_cell_guid": "f749d081-5b52-4ea6-88fd-9c68feda87db",
    "_uuid": "37f7c994-d61c-41fa-b4a6-80ecd7db8d39"
   },
   "outputs": [],
   "source": [
    "# Import tensor dataset & data loader\n",
    "from torch.utils.data import TensorDataset, DataLoader"
   ]
  },
  {
   "cell_type": "code",
   "execution_count": 43,
   "metadata": {
    "_cell_guid": "9e4472f1-90a1-4986-8bb4-b4c716fb3cf6",
    "_uuid": "1279407d-3be8-433f-96a3-24f3b0fe8920"
   },
   "outputs": [
    {
     "data": {
      "text/plain": [
       "(tensor([[ 73.,  67.,  43.],\n",
       "         [ 91.,  88.,  64.],\n",
       "         [ 87., 134.,  58.]]),\n",
       " tensor([[ 56.,  70.],\n",
       "         [ 81., 101.],\n",
       "         [119., 133.]]))"
      ]
     },
     "execution_count": 43,
     "metadata": {},
     "output_type": "execute_result"
    }
   ],
   "source": [
    "# Define dataset\n",
    "train_ds = TensorDataset(inputs, targets)\n",
    "train_ds[0:3]"
   ]
  },
  {
   "cell_type": "code",
   "execution_count": 44,
   "metadata": {
    "_cell_guid": "e79082c2-f8dc-4698-99d0-9da858405522",
    "_uuid": "0e09a043-0f00-40c2-a534-3c40434e0f87"
   },
   "outputs": [
    {
     "data": {
      "text/plain": [
       "[tensor([[ 91.,  88.,  64.],\n",
       "         [102.,  43.,  37.],\n",
       "         [ 87., 134.,  58.],\n",
       "         [ 87., 134.,  58.],\n",
       "         [ 69.,  96.,  70.]]),\n",
       " tensor([[ 81., 101.],\n",
       "         [ 22.,  37.],\n",
       "         [119., 133.],\n",
       "         [119., 133.],\n",
       "         [103., 119.]])]"
      ]
     },
     "execution_count": 44,
     "metadata": {},
     "output_type": "execute_result"
    }
   ],
   "source": [
    "# Define data loader\n",
    "batch_size = 5\n",
    "train_dl = DataLoader(train_ds, batch_size, shuffle=True)\n",
    "next(iter(train_dl))"
   ]
  },
  {
   "cell_type": "markdown",
   "metadata": {
    "_cell_guid": "eed3a707-bd92-48f6-8ad9-a0252802ce0d",
    "_uuid": "4713b9f5-8c2c-4b65-92e0-468d427c0e42"
   },
   "source": [
    "### nn.Linear\n",
    "Instead of initializing the weights & biases manually, we can define the model using `nn.Linear`."
   ]
  },
  {
   "cell_type": "code",
   "execution_count": 45,
   "metadata": {
    "_cell_guid": "936bf25b-9564-45d3-ac17-6060be04473e",
    "_uuid": "3d10c3ae-b067-48fc-b709-23d58298b470"
   },
   "outputs": [
    {
     "name": "stdout",
     "output_type": "stream",
     "text": [
      "Parameter containing:\n",
      "tensor([[-0.5311, -0.1373,  0.0315],\n",
      "        [ 0.1679,  0.2020, -0.3938]], requires_grad=True)\n",
      "Parameter containing:\n",
      "tensor([0.2052, 0.5001], requires_grad=True)\n"
     ]
    }
   ],
   "source": [
    "# Define model\n",
    "model = nn.Linear(3, 2)\n",
    "print(model.weight)\n",
    "print(model.bias)"
   ]
  },
  {
   "cell_type": "markdown",
   "metadata": {
    "_cell_guid": "19b2545e-f5dc-43c5-b4aa-ceeb448f2378",
    "_uuid": "410d0387-3bbb-493b-8fcd-e594a3050481"
   },
   "source": [
    "### Optimizer\n",
    "Instead of manually manipulating the weights & biases using gradients, we can use the optimizer `optim.SGD`."
   ]
  },
  {
   "cell_type": "code",
   "execution_count": 46,
   "metadata": {
    "_cell_guid": "ce55c22e-ee27-49d9-929d-186187148138",
    "_uuid": "f870f264-f431-4efd-a84c-21bfd92f0c4d"
   },
   "outputs": [],
   "source": [
    "# Define optimizer\n",
    "opt = torch.optim.SGD(model.parameters(), lr=1e-5)"
   ]
  },
  {
   "cell_type": "markdown",
   "metadata": {
    "_cell_guid": "2ef4ae85-44f2-4a87-9887-d4db73a53dc1",
    "_uuid": "5a4ba302-883b-4f5f-aecc-b71c2a82ad69"
   },
   "source": [
    "### Loss Function\n",
    "Instead of defining a loss function manually, we can use the built-in loss function `mse_loss`."
   ]
  },
  {
   "cell_type": "code",
   "execution_count": 47,
   "metadata": {
    "_cell_guid": "aadc34d7-c8b3-43fc-9651-7b512178c6c8",
    "_uuid": "59ea37fd-aacb-434a-8b9f-b568e6769869"
   },
   "outputs": [],
   "source": [
    "# Import nn.functional\n",
    "import torch.nn.functional as F"
   ]
  },
  {
   "cell_type": "code",
   "execution_count": 48,
   "metadata": {
    "_cell_guid": "cadd5b96-cc66-4f7c-83f2-50743852fb3d",
    "_uuid": "0fb31e2e-35e9-4540-bd33-e360282a149d"
   },
   "outputs": [],
   "source": [
    "# Define loss function\n",
    "loss_fn = F.mse_loss"
   ]
  },
  {
   "cell_type": "code",
   "execution_count": 49,
   "metadata": {
    "_cell_guid": "b7a5f012-ffb7-4e0a-ad8e-50d8db1dc41c",
    "_uuid": "696c2ccb-1bda-4556-995d-bd2dcf0af72c"
   },
   "outputs": [
    {
     "name": "stdout",
     "output_type": "stream",
     "text": [
      "tensor(13103.6211, grad_fn=<MseLossBackward>)\n"
     ]
    }
   ],
   "source": [
    "loss = loss_fn(model(inputs), targets)\n",
    "print(loss)"
   ]
  },
  {
   "cell_type": "markdown",
   "metadata": {
    "_cell_guid": "dced0e70-a1a0-4926-a914-38abc9ab3e24",
    "_uuid": "b7924647-f01d-46f5-960d-796ad1f58fa7"
   },
   "source": [
    "### Train the model\n",
    "\n",
    "We are ready to train the model now. We can define a utility function `fit` which trains the model for a given number of epochs."
   ]
  },
  {
   "cell_type": "code",
   "execution_count": 50,
   "metadata": {
    "_cell_guid": "3b8c7dbb-cc33-43d5-a577-13dcafa4ab3b",
    "_uuid": "78f2db74-8b07-449f-9255-bfb9053927e9"
   },
   "outputs": [],
   "source": [
    "# Define a utility function to train the model\n",
    "def fit(num_epochs, model, loss_fn, opt):\n",
    "    for epoch in range(num_epochs):\n",
    "        for xb,yb in train_dl:\n",
    "            # Generate predictions\n",
    "            pred = model(xb)\n",
    "            loss = loss_fn(pred, yb)\n",
    "            # Perform gradient descent\n",
    "            loss.backward()\n",
    "            opt.step()\n",
    "            opt.zero_grad()\n",
    "    print('Training loss: ', loss_fn(model(inputs), targets))"
   ]
  },
  {
   "cell_type": "code",
   "execution_count": 51,
   "metadata": {
    "_cell_guid": "deffa901-7f8f-47da-8779-8b2af60ac41a",
    "_uuid": "d5602a6b-4f56-4c33-a4b9-e3f00b838c1c"
   },
   "outputs": [
    {
     "name": "stdout",
     "output_type": "stream",
     "text": [
      "Training loss:  tensor(39.4020, grad_fn=<MseLossBackward>)\n"
     ]
    }
   ],
   "source": [
    "# Train the model for 100 epochs\n",
    "fit(100, model, loss_fn, opt)"
   ]
  },
  {
   "cell_type": "code",
   "execution_count": null,
   "metadata": {
    "_cell_guid": "b6c1bba2-1968-4e95-9639-13b62076a5f5",
    "_uuid": "80d8ab01-5247-47bd-8ffc-b75e65d9d600"
   },
   "outputs": [],
   "source": [
    "# Generate predictions\n",
    "preds = model(inputs)\n",
    "preds"
   ]
  },
  {
   "cell_type": "code",
   "execution_count": null,
   "metadata": {
    "_cell_guid": "da8e51f9-5c18-46c7-870d-9656a582cd90",
    "_uuid": "6f2e95b5-5267-46a6-9e37-c2a5e2fbe7d5"
   },
   "outputs": [],
   "source": [
    "# Compare with targets\n",
    "targets"
   ]
  },
  {
   "cell_type": "markdown",
   "metadata": {
    "_cell_guid": "31466fcd-d558-42a6-a0da-5834e2c0af69",
    "_uuid": "a34fdac4-da3f-469e-a77e-a7cc8fd90cbc"
   },
   "source": [
    "# Bonus: Feedfoward Neural Network\n",
    "\n",
    "![ffnn](https://upload.wikimedia.org/wikipedia/commons/thumb/0/00/Multi-Layer_Neural_Network-Vector-Blank.svg/400px-Multi-Layer_Neural_Network-Vector-Blank.svg.png)\n",
    "\n",
    "Conceptually, you think of feedforward neural networks as two or more linear regression models stacked on top of one another with a non-linear activation function applied between them.\n",
    "\n",
    "<img src=\"https://cdn-images-1.medium.com/max/1600/1*XxxiA0jJvPrHEJHD4z893g.png\" width=\"640\">\n",
    "\n",
    "To use a feedforward neural network instead of linear regression, we can extend the `nn.Module` class from PyTorch."
   ]
  },
  {
   "cell_type": "code",
   "execution_count": null,
   "metadata": {
    "_cell_guid": "277b2628-c5f9-4180-8c93-9639c9aab0bd",
    "_uuid": "a3bf73c5-b680-4c38-b655-5be40230af53"
   },
   "outputs": [],
   "source": [
    "class SimpleNet(nn.Module):\n",
    "    # Initialize the layers\n",
    "    def __init__(self):\n",
    "        super().__init__()\n",
    "        self.linear1 = nn.Linear(3, 3)\n",
    "        self.act1 = nn.ReLU() # Activation function\n",
    "        self.linear2 = nn.Linear(3, 2)\n",
    "    \n",
    "    # Perform the computation\n",
    "    def forward(self, x):\n",
    "        x = self.linear1(x)\n",
    "        x = self.act1(x)\n",
    "        x = self.linear2(x)\n",
    "        return x"
   ]
  },
  {
   "cell_type": "markdown",
   "metadata": {
    "_cell_guid": "600d58e0-63e3-4363-b44b-0f79b9e32fa7",
    "_uuid": "3023c825-7229-4ba5-bb78-8ad1fa3346d1"
   },
   "source": [
    "Now we can define the model, optimizer and loss function exactly as before."
   ]
  },
  {
   "cell_type": "code",
   "execution_count": null,
   "metadata": {
    "_cell_guid": "82dc9eac-3247-4fc1-a75e-4f1b9f69ff96",
    "_uuid": "c5ac722a-fed0-41e3-96d6-e0b4069a704a"
   },
   "outputs": [],
   "source": [
    "model = SimpleNet()\n",
    "opt = torch.optim.SGD(model.parameters(), 1e-5)\n",
    "loss_fn = F.mse_loss"
   ]
  },
  {
   "cell_type": "markdown",
   "metadata": {
    "_cell_guid": "5e4441f9-7533-4874-8595-b9a870380369",
    "_uuid": "0e26c1a6-6ee4-41b9-9ae3-d270253fd2f3"
   },
   "source": [
    "Finally, we can apply gradient descent to train the model using the same `fit` function defined earlier for linear regression.\n",
    "\n",
    "<img src=\"https://i.imgur.com/g7Rl0r8.png\" width=\"500\">"
   ]
  },
  {
   "cell_type": "code",
   "execution_count": null,
   "metadata": {
    "_cell_guid": "e2f628df-f226-43d2-a2ca-c726ae11f214",
    "_uuid": "fca69543-fb90-456d-b844-2465c5f24368"
   },
   "outputs": [],
   "source": [
    "fit(100, model, loss_fn, opt)"
   ]
  }
 ],
 "metadata": {
  "kernelspec": {
   "display_name": "Python 3",
   "language": "python",
   "name": "python3"
  },
  "language_info": {
   "codemirror_mode": {
    "name": "ipython",
    "version": 3
   },
   "file_extension": ".py",
   "mimetype": "text/x-python",
   "name": "python",
   "nbconvert_exporter": "python",
   "pygments_lexer": "ipython3",
   "version": "3.8.6"
  }
 },
 "nbformat": 4,
 "nbformat_minor": 4
}
