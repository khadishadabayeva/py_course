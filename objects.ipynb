{
 "cells": [
  {
   "cell_type": "markdown",
   "metadata": {},
   "source": [
    "# Object-Oriented Programming"
   ]
  },
  {
   "cell_type": "markdown",
   "metadata": {},
   "source": [
    "## Managing Larger Programs\n",
    "\n",
    "At the beginning of this book, we came up with four basic programming patterns which we use to construct programs:\n",
    "\n",
    "- Sequential code\n",
    "- Conditional code (if statements)\n",
    "- Repetitive code (loops)\n",
    "- Store and reuse (functions)\n",
    "\n",
    "In later chapters, we explored simple variables as well as collection data structures like lists, tuples, and dictionaries.\n",
    "\n",
    "As we build programs, we design data structures and write code to manipulate those data structures. There are many ways to write programs and by now, you probably have written some programs that are \"not so elegant\" and other programs that are \"more elegant\". Even though your programs may be small, you are starting to see how there is a bit of \"art\" and \"aesthetic\" to writing code.\n",
    "\n",
    "As programs get to be millions of lines long, it becomes increasingly important to write code that is easy to understand. If you are working on a million line program, you can never keep the entire program in your mind at the same time. So we need ways to break the program into multiple smaller pieces so to solve a problem, fix a bug, or add a new feature we have less to look at.\n",
    "\n",
    "In a way, object oriented programming is a way to arrange your code so that you can zoom into 500 lines of the code, and understand it while ignoring the other 999,500 lines of code for the moment."
   ]
  },
  {
   "cell_type": "markdown",
   "metadata": {},
   "source": [
    "## Getting Started\n",
    "\n",
    "Like many aspects of programming it is necessary to learn the concepts of object oriented programming before you can use them effectively. So approach this chapter as a way to learn some terms and concepts and work through a few simple examples to lay a foundation for future learning. Throughout the rest of the book we will be using objects in many of the programs but we won't be building our own new objects in the programs.\n",
    "\n",
    "The key outcome of this chapter is to have a basic understanding of how objects are constructed and how they function and most importantly how we make use of the capabilities of objects that are provided to us by Python and Python libraries."
   ]
  },
  {
   "cell_type": "markdown",
   "metadata": {},
   "source": [
    "## Using Objects\n",
    "\n",
    "It turns out we have been using objects all along in this class. Python provides us with many built-in objects. Here is some simple code where the first few lines should feel very simple and natural to you."
   ]
  },
  {
   "cell_type": "code",
   "execution_count": null,
   "metadata": {},
   "outputs": [],
   "source": [
    "stuff = list()\n",
    "stuff.append('python')\n",
    "stuff.append('chuck')\n",
    "stuff.sort()\n",
    "print (stuff[0])\n",
    "\n",
    "print (stuff.__getitem__(0))\n",
    "print (list.__getitem__(stuff,0))\n",
    "\n",
    "# Code: http://www.py4e.com/code3/party1.py"
   ]
  },
  {
   "cell_type": "markdown",
   "metadata": {},
   "source": [
    "But instead of focusing on what these lines accomplish, lets look at what is really happening from the point of view of object-oriented programming. Don't worry if the following paragraphs don't make any sense the first time you read them because we have not yet defined all these terms.\n",
    "\n",
    "The first line is constructing an object of type list, the second and third lines are calling the `append()` method, the fourth line is calling the `sort()` method, and the fifth line is retrieving the item at position 0.\n",
    "\n",
    "The sixth line is calling the `__getitem__()` method in the stuff list with a parameter of zero."
   ]
  },
  {
   "cell_type": "code",
   "execution_count": null,
   "metadata": {},
   "outputs": [],
   "source": [
    "print (stuff.__getitem__(0))"
   ]
  },
  {
   "cell_type": "markdown",
   "metadata": {},
   "source": [
    "The seventh line is an even more verbose way of retrieving the 0th item in the list."
   ]
  },
  {
   "cell_type": "code",
   "execution_count": null,
   "metadata": {},
   "outputs": [],
   "source": [
    "print (list.__getitem__(stuff,0))"
   ]
  },
  {
   "cell_type": "markdown",
   "metadata": {},
   "source": [
    "In this code, we care calling the `__getitem__` method in the `list` class and passing in the list (`stuff`) and the item we want retrieved from the list as parameters.\n",
    "\n",
    "The last three lines of the program are completely equivalent, but it is more convenient to simply use the square bracket syntax to look up an item at a particular position in a list.\n",
    "\n",
    "We can take a look into the capabilities of an object by looking at the output of the `dir()` function:"
   ]
  },
  {
   "cell_type": "code",
   "execution_count": null,
   "metadata": {},
   "outputs": [],
   "source": [
    "stuff = list()\n",
    "dir(stuff)"
   ]
  },
  {
   "cell_type": "markdown",
   "metadata": {},
   "source": [
    "The precise definition of `dir()` is that it lists the methods and attributes of a Python object.\n",
    "\n",
    "The rest of this chapter will define all of the above terms so make sure to come back after you finish the chapter and re-read the above paragraphs to check your understanding."
   ]
  },
  {
   "cell_type": "markdown",
   "metadata": {},
   "source": [
    "## Starting with Programs\n",
    "\n",
    "A program in its most basic form takes some input, does some processing, and produces some output. Our elevator conversion program demonstrates a very short but complete program showing all three of these steps."
   ]
  },
  {
   "cell_type": "code",
   "execution_count": null,
   "metadata": {},
   "outputs": [],
   "source": [
    "usf = input('Enter the US Floor Number: ')\n",
    "wf = int(usf) - 1\n",
    "print('Non-US Floor Number is', wf)\n",
    "\n",
    "# Code: http://www.py4e.com/code3/elev.py"
   ]
  },
  {
   "cell_type": "markdown",
   "metadata": {},
   "source": [
    "If we think a bit more about this program, there is the \"outside world\" and the program. The input and output aspects are where the program interacts with the outside world. Within the program we have code and data to accomplish the task the program is designed to solve.\n",
    "\n",
    "![A Program](images/14.01-a_program.svg)\n",
    "*A Program*\n",
    "\n",
    "When we are \"in\" the program, we have some defined interactions with the \"outside\" world, but those interactions are well defined and generally not something we focus on. While we are coding we worry only about the details \"inside the program\".\n",
    "\n",
    "One way to think about object oriented programming is that we are separating our program into multiple \"zones\". Each \"zone\" contains some code and data (like a program) and has well defined interactions with the outside world and the other zones within the program."
   ]
  },
  {
   "cell_type": "markdown",
   "metadata": {},
   "source": [
    "## Our First Python Object\n",
    "\n",
    "At its simplest, an object is some code plus data structures that is smaller than a whole program. Defining a function allows us to store a bit of code and give it a name and then later invoke that code using the name of the function.\n",
    "\n",
    "An object can contain a number of functions (which we call \"methods\") as well as data that is used by those functions. We call data items that are part of the object \"attributes\".\n",
    "\n",
    "We use the `class` keyword to define the data and code that will make up each of the objects. The class keyword includes the name of the class and begins an indented block of code where we include the attributes (data) and methods (code)."
   ]
  },
  {
   "cell_type": "code",
   "execution_count": 1,
   "metadata": {},
   "outputs": [
    {
     "name": "stdout",
     "output_type": "stream",
     "text": [
      "0\n",
      "So far 1\n",
      "So far 2\n",
      "So far 3\n",
      "So far 4\n"
     ]
    }
   ],
   "source": [
    "class PartyAnimal:\n",
    "    \n",
    "    x = 0\n",
    "\n",
    "    def party(self):\n",
    "        self.x = self.x + 1\n",
    "        print(\"So far\",self.x)\n",
    "\n",
    "an = PartyAnimal()\n",
    "print(an.x)\n",
    "an.party()\n",
    "an.party()\n",
    "an.party()\n",
    "PartyAnimal.party(an)\n",
    "\n",
    "# Code: http://www.py4e.com/code3/party2.py"
   ]
  },
  {
   "cell_type": "markdown",
   "metadata": {},
   "source": [
    "Each method looks like a function, starting with the `def` keyword and consisting of an indented block of code. This example has one attribute (x) and one method (party). The methods have a special first parameter that we name by convention `self`.\n",
    "\n",
    "Much like the `def` keyword does not cause function code to be executed, the `class` keyword does not create an object. Instead, the `class` keyword defines a template indicating what data and code will be contained in each object of type `PartyAnimal`. The class is like a cookie cutter and the objects created using the class are the cookies. You don't put frosting on the cookie cutter, you put frosting on the cookies - and you can put different frosting on each cookie.\n",
    "\n",
    "If you continue through the example code, we see the first executable line of code:"
   ]
  },
  {
   "cell_type": "code",
   "execution_count": null,
   "metadata": {},
   "outputs": [],
   "source": [
    "an = PartyAnimal()"
   ]
  },
  {
   "cell_type": "markdown",
   "metadata": {},
   "source": [
    "This is where we instruct Python to construct (e.g. create) an object or \"instance of the class named PartyAnimal\". It looks like a function call to the class itself and Python constructs the object with the right data and methods and returns the object which is then assigned to the variable an. In a way this is quite similar to the following line which we have been using all along:"
   ]
  },
  {
   "cell_type": "code",
   "execution_count": null,
   "metadata": {},
   "outputs": [],
   "source": [
    "counts = dict()"
   ]
  },
  {
   "cell_type": "markdown",
   "metadata": {},
   "source": [
    "Here we are instructing Python to construct an object using the `dict` template (already present in Python), return the instance of dictionary and assign it to the variable `counts`.\n",
    "\n",
    "When the PartyAnimal class is used to construct an object, the variable `an` is used to point to that object. We use `an` to access the code and data for that particular instance of a PartyAnimal object.\n",
    "\n",
    "Each `Partyanimal` object/instance contains within it a variable `x` and a method/function named `party`. We call that party method in this line:"
   ]
  },
  {
   "cell_type": "code",
   "execution_count": 4,
   "metadata": {},
   "outputs": [
    {
     "name": "stdout",
     "output_type": "stream",
     "text": [
      "So far 7\n"
     ]
    }
   ],
   "source": [
    "an.party()"
   ]
  },
  {
   "cell_type": "markdown",
   "metadata": {},
   "source": [
    "When the `party` method is called, the first parameter (which we call by convention `self`) points to the particular instance of the `PartyAnimal` object that `party` is called from within. Within the `party` method, we see the line:\n",
    "\n",
    "```python\n",
    "self.x = self.x + 1\n",
    "```\n",
    "\n",
    "This syntax using the 'dot' operator is saying 'the x within self'. So each time `party()` is called, the internal `x` value is incremented by 1 and the value is printed out.\n",
    "\n",
    "To help make sense of the difference between a global function and a method within a class/object, the following line is another way to call the party method within the an object:"
   ]
  },
  {
   "cell_type": "code",
   "execution_count": 3,
   "metadata": {},
   "outputs": [
    {
     "name": "stdout",
     "output_type": "stream",
     "text": [
      "So far 6\n"
     ]
    }
   ],
   "source": [
    "PartyAnimal.party(an)"
   ]
  },
  {
   "cell_type": "markdown",
   "metadata": {},
   "source": [
    "In this variation, we are accessing the code from within the *class* and explicitly passing the object pointer an in as the first parameter (i.e. `self` within the method). You can think of `an.party()` as shorthand for the above line.\n",
    "\n",
    "In the example above, the object is constructed, and the `party` method is called four times, both incrementing and printing the value for x within the an object."
   ]
  },
  {
   "cell_type": "markdown",
   "metadata": {},
   "source": [
    "## Classes as Types\n",
    "\n",
    "As we have seen, in Python, all variables have a type. And we can use the built-in `dir` function to examine the capabilities of a variable. We can use `type` and `dir` with the classes that we create."
   ]
  },
  {
   "cell_type": "code",
   "execution_count": null,
   "metadata": {},
   "outputs": [],
   "source": [
    "class PartyAnimal:\n",
    "    \n",
    "    x = 0\n",
    "\n",
    "    def party(self) :\n",
    "        self.x = self.x + 1\n",
    "        print(\"So far\",self.x)\n",
    "\n",
    "an = PartyAnimal()\n",
    "print (\"Type\", type(an))\n",
    "print (\"Dir \", dir(an))\n",
    "print (\"Type\", type(an.x))\n",
    "print (\"Type\", type(an.party))\n",
    "\n",
    "# Code: http://www.py4e.com/code3/party3.py"
   ]
  },
  {
   "cell_type": "markdown",
   "metadata": {},
   "source": [
    "You can see that using the `class` keyword, we have created a new type. From the `dir` output, you can see both the `x` integer attribute and the `party` method are available in the object."
   ]
  },
  {
   "cell_type": "markdown",
   "metadata": {},
   "source": [
    "## Object Lifecycle\n",
    "\n",
    "In the previous examples, we are defining a class (template) and using that class to create an instance of that class (object) and then using the instance. When the program finishes, all the variables are discarded. Usually we don't think much about the creation and destruction of variables, but often as our objects become more complex, we need to take some action within the object to set things up as the object is being constructed and possibly clean things up as the object is being discarded.\n",
    "\n",
    "If we want our object to be aware of these moments of construction and destruction, we add specially named methods to our object:"
   ]
  },
  {
   "cell_type": "code",
   "execution_count": null,
   "metadata": {},
   "outputs": [],
   "source": [
    "# delete an before continuing\n",
    "del an"
   ]
  },
  {
   "cell_type": "code",
   "execution_count": null,
   "metadata": {},
   "outputs": [],
   "source": [
    "class PartyAnimal:\n",
    "\n",
    "    def __init__(self, x=0):\n",
    "        self.x = x\n",
    "        print('I am constructed', self.x)\n",
    "\n",
    "    def party(self) :\n",
    "        self.x = self.x + 1\n",
    "        print('So far', self.x)\n",
    "\n",
    "    def __del__(self):\n",
    "        print('I am destructed', self.x)\n",
    "\n",
    "an = PartyAnimal()\n",
    "an.party()\n",
    "an.party()\n",
    "\n",
    "an = 42\n",
    "print('an contains', an)\n",
    "\n",
    "# Code: http://www.py4e.com/code3/party4.py"
   ]
  },
  {
   "cell_type": "markdown",
   "metadata": {},
   "source": [
    "As Python is constructing our object, it calls our `__init__` method to give us a chance to set up some default or initial values for the object. When Python encounters the line:\n",
    "```python\n",
    "an = 42\n",
    "```\n",
    "It actually 'thows our object away' so it can reuse the `an` variable to store the value `42`. Just at the moment when our an object is being 'destroyed' our destructor code (`__del__`) is called. We cannot stop our variable from being destroyed, but we can do any necessary cleanup right before our object no longer exists.\n",
    "\n",
    "When developing objects, it is quite common to add a constructor to an object to set in initial values in the object, it is relatively rare to need to need a destructor for an object."
   ]
  },
  {
   "cell_type": "markdown",
   "metadata": {},
   "source": [
    "## Many Instances\n",
    "\n",
    "So far, we have been defining a class, making a single object, using that object, and then throwing the object away. But the real power in object oriented happens when we make many instances of our class.\n",
    "\n",
    "When we are making multiple objects from our class, we might want to set up different initial values for each of the objects. We can pass data into the constructors to give each object a different initial value:"
   ]
  },
  {
   "cell_type": "code",
   "execution_count": null,
   "metadata": {},
   "outputs": [],
   "source": [
    "class PartyAnimal:\n",
    "    \n",
    "    x = 0\n",
    "    name = ''\n",
    "    \n",
    "    def __init__(self, nam):\n",
    "        self.name = nam\n",
    "        print(self.name,'constructed')\n",
    "\n",
    "    def party(self) :\n",
    "        self.x = self.x + 1\n",
    "        print(self.name,'party count',self.x)\n",
    "\n",
    "s = PartyAnimal('Sally')\n",
    "s.party()\n",
    "j = PartyAnimal('Jim')\n",
    "j.party()\n",
    "s.party()\n",
    "\n",
    "# Code: http://www.py4e.com/code3/party5.py"
   ]
  },
  {
   "cell_type": "markdown",
   "metadata": {},
   "source": [
    "The constructor has both a `self` parameter that points to the object instance and then additional parameters that are passed into the constructor as the object is being constructed:\n",
    "\n",
    "```python\n",
    "s = PartyAnimal('Sally')\n",
    "```\n",
    "Within the constructor, the line:\n",
    "```python\n",
    "self.name = nam\n",
    "```\n",
    "Copies the parameter that is passed in (`nam`) into the `name` attribute within the object instance.\n",
    "\n",
    "The output of the program shows that each of the objects (`s` and `j`) contain their own independent copies of `x` and `nam`."
   ]
  },
  {
   "cell_type": "markdown",
   "metadata": {},
   "source": [
    "## Inheritance\n",
    "\n",
    "Another powerful feature of object oriented programming is the ability to create a new class by extending an existing class. When extending a class, we call the original class the 'parent class' and the new class as the 'child class'.\n",
    "\n",
    "For this example, we will move our `PartyAnimal` class into its own file:"
   ]
  },
  {
   "cell_type": "code",
   "execution_count": null,
   "metadata": {},
   "outputs": [],
   "source": [
    "class PartyAnimal:\n",
    "    x = 0\n",
    "    name = ''\n",
    "    \n",
    "    def __init__(self, nam):\n",
    "        self.name = nam\n",
    "        print(self.name,'constructed')\n",
    "\n",
    "    def party(self) :\n",
    "        self.x = self.x + 1\n",
    "        print(self.name,'party count',self.x)\n",
    "\n",
    "# Code: http://www.py4e.com/code3/party.py"
   ]
  },
  {
   "cell_type": "markdown",
   "metadata": {},
   "source": [
    "Then, we can 'import' the PartyAnimal class in a new file and extend it as follows:"
   ]
  },
  {
   "cell_type": "code",
   "execution_count": null,
   "metadata": {},
   "outputs": [],
   "source": [
    "# from party import PartyAnimal\n",
    "\n",
    "class CricketFan(PartyAnimal):\n",
    "    \n",
    "    def __init__(self, nam, points=0):\n",
    "        self.name = nam\n",
    "        self.points = points\n",
    "        print(self.name,'CricketFan constructed', self.points)\n",
    "    \n",
    "    def six(self):\n",
    "        self.points = self.points + 6\n",
    "        self.party()\n",
    "        print(self.name,\"points\",self.points)\n",
    "\n",
    "s = PartyAnimal(\"Sally\")\n",
    "s.party()\n",
    "j = CricketFan('Jim', 6)\n",
    "j.party()\n",
    "j.six()\n",
    "print(dir(j))\n",
    "\n",
    "# Code: http://www.py4e.com/code3/party6.py"
   ]
  },
  {
   "cell_type": "markdown",
   "metadata": {},
   "source": [
    "When we are defining the `CricketFan` object, we indicate that we are extending the `PartyAnimal` class. This means that all of the variables (`x`) and methods (`party`) from the `PartyAnimal` class are inherited by the `CricketFan` class.\n",
    "\n",
    "You can see that within the six method in the CricketFan class, we can call the party method from the PartyAnimal class. The variables and methods from the parent class are *merged* into the *child class*.\n",
    "\n",
    "As the program executes, we can see that the `s` and `j` are independent instances of `PartyAnimal` and `CricketFan`. The `j` object has additional capabilities beyond the `s` object.\n",
    "\n",
    "In the `dir` output for the `j` object (instance of the `CricketFan` class) you can see that it both has the attributes and methods of the parent class as well as the attributes and methods that were added when the class was extended to create the `CricketFan` class."
   ]
  },
  {
   "cell_type": "markdown",
   "metadata": {},
   "source": [
    "## Summary\n",
    "\n",
    "This is a very quick introduction to object-oriented programming that focuses mainly on terminology and the syntax of defining and using objects. Let's quickly review the code that we looked at in the beginning of the chapter. At this point you should fully understand what is going on."
   ]
  },
  {
   "cell_type": "code",
   "execution_count": null,
   "metadata": {},
   "outputs": [],
   "source": [
    "stuff = list()\n",
    "stuff.append('python')\n",
    "stuff.append('chuck')\n",
    "stuff.sort()\n",
    "print (stuff[0])\n",
    "\n",
    "print (stuff.__getitem__(0))\n",
    "print (list.__getitem__(stuff,0))\n",
    "\n",
    "# Code: http://www.py4e.com/code3/party1.py"
   ]
  },
  {
   "cell_type": "markdown",
   "metadata": {},
   "source": [
    "The first line constructs a `list` object. When Python creates the list object, it calls the *constructor* method (named `__init__`) to set up the internal data attributes that will be used to store the list data. Due to encapsulation we neither need to know, nor need to care about these in internal data attributes are arranged.\n",
    "\n",
    "We are not passing any parameters to the *constructor* and when the constructor returns, we use the variable `stuff` to point to the returned instance of the `list` class.\n",
    "\n",
    "The second and third lines are calling the `append` method with one parameter to add a new item at the end of the list by updating the attributes within `stuff`. Then in the fourth line, we call the `sort` method with no parameters to sort the data within the stuff object.\n",
    "\n",
    "Then we print out the first item in the list using the square brackets which are a shortcut to calling the `__getitem__` method within the `stuff` *object*. And this is equivalent to calling the `__getitem__` method in the `list` *class* passing the stuff object in as the first parameter and the position we are looking for as the second parameter.\n",
    "\n",
    "At the end of the program the `stuff` object is discarded but not before calling the *destructor* (named `__del__`) so the object can clean up any loose ends as necessary.\n",
    "\n",
    "Those are the basics and terminology of object oriented programming. There are many additional details as to how to best use object oriented approaches when developing large applications and libraries that are beyond the scope of this chapter."
   ]
  },
  {
   "cell_type": "markdown",
   "metadata": {},
   "source": [
    "---\n",
    "## Glossary\n",
    "\n",
    "### attribute\n",
    "A variable that is part of a class. \n",
    "\n",
    "### class\n",
    "A template that can be used to construct an object. Defines the attributes and methods that will make up the object. \n",
    "\n",
    "### child class\n",
    "A new class created when a parent class is extended. The child class inherits all of the attributes and methods of the parent class. \n",
    "\n",
    "### constructor\n",
    "An optional specially named method (`__init__`) that is called at the moment when a class is being used to construct an object. Usually this is used to set up initial values for the object. \n",
    "\n",
    "### destructor\n",
    "An optional specially named method (`__del__`) that is called at the moment just before an object is destroyed. Destructors are rarely used. \n",
    "\n",
    "### inheritance\n",
    "When we create a new class (child) by extending an existing class (parent). The child class has all the attributes and methods of the parent class plus additional attributes and methods defined by the child class. \n",
    "\n",
    "### method\n",
    "A function that is contained within a class and the objects that are constructed from the class. Some object-oriented patterns use 'message' instead of 'method' to describe this concept. \n",
    "\n",
    "### object\n",
    "A constructed instance of a class. An object contains all of the attributes and methods that were defined by the class. Some object-oriented documentation uses the term 'instance' interchangeably with 'object'. \n",
    "\n",
    "### parent class\n",
    "The class which is being extended to create a new child class. The parent class contributes all of its methods and attributes to the new child class. \n"
   ]
  },
  {
   "cell_type": "markdown",
   "metadata": {},
   "source": [
    "---\n",
    "\n",
    "## Acknowledgements\n",
    "\n",
    "Text © Charles R. Severance. Interactive HTML © Trinket. Both provided under a CC-NC-BY-SA license.\n",
    "A huge thanks to the project's many contributors!"
   ]
  }
 ],
 "metadata": {
  "kernelspec": {
   "display_name": "Python 3",
   "language": "python",
   "name": "python3"
  },
  "language_info": {
   "codemirror_mode": {
    "name": "ipython",
    "version": 3
   },
   "file_extension": ".py",
   "mimetype": "text/x-python",
   "name": "python",
   "nbconvert_exporter": "python",
   "pygments_lexer": "ipython3",
   "version": "3.8.6"
  }
 },
 "nbformat": 4,
 "nbformat_minor": 4
}
