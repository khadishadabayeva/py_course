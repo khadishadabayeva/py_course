{
 "cells": [
  {
   "cell_type": "markdown",
   "metadata": {},
   "source": [
    "# Programming Python"
   ]
  },
  {
   "cell_type": "markdown",
   "metadata": {},
   "source": [
    "## Introduction\n",
    "\n",
    "[&rarr;](01-intro.ipynb)\n",
    "\n",
    "## Variables, expressions, and statements\n",
    "\n",
    "[&rarr;](02-variables.ipynb)\n",
    "\n",
    "## Conditional execution\n",
    "\n",
    "[&rarr;](03-conditional.ipynb)\n",
    "\n",
    "## Functions\n",
    "\n",
    "[&rarr;](04-functions.ipynb)\n",
    "\n",
    "## Iteration\n",
    "\n",
    "[&rarr;](05-iterations.ipynb)\n",
    "\n",
    "## Strings\n",
    "\n",
    "[&rarr;](06-strings.ipynb)\n",
    "\n",
    "## Files\n",
    "\n",
    "[&rarr;](07-files.ipynb)\n",
    "\n",
    "## Lists\n",
    "\n",
    "[&rarr;](08-lists.ipynb)\n",
    "\n",
    "## Dictionaries\n",
    "\n",
    "[&rarr;](09-dictionaries.ipynb)\n",
    "\n",
    "## Tuples\n",
    "\n",
    "[&rarr;](10-tuples.ipynb)\n",
    "\n",
    "## Network\n",
    "\n",
    "[&rarr;](11-network.ipynb)\n",
    "\n",
    "## Web\n",
    "\n",
    "[&rarr;](12-web.ipynb)\n",
    "\n",
    "## Objects\n",
    "\n",
    "[&rarr;](-variables.ipynb)"
   ]
  },
  {
   "cell_type": "code",
   "execution_count": null,
   "metadata": {},
   "outputs": [],
   "source": []
  }
 ],
 "metadata": {
  "kernelspec": {
   "display_name": "Python 3",
   "language": "python",
   "name": "python3"
  },
  "language_info": {
   "codemirror_mode": {
    "name": "ipython",
    "version": 3
   },
   "file_extension": ".py",
   "mimetype": "text/x-python",
   "name": "python",
   "nbconvert_exporter": "python",
   "pygments_lexer": "ipython3",
   "version": "3.8.6"
  }
 },
 "nbformat": 4,
 "nbformat_minor": 4
}
