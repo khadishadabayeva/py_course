{
 "cells": [
  {
   "cell_type": "markdown",
   "metadata": {},
   "source": [
    "# Programming Python\n",
    "\n",
    "This is a series of accompanying introductory Python Notebooks, as part of the course \"Machine Learning in practice\".\n",
    "\n",
    "We will start with an overview of programming in general and the basic elements of the Python programming language. Then we will move on to important topics like\n",
    "\n",
    "- simple data structures (strings, lists, dictionaries, tuples)\n",
    "- file input/output\n",
    "- accessing data over networks\n",
    "- object-oriented programming\n",
    "\n",
    "We will also briefly look into Python modules for mathematical computations and statistics/visualization (NumPy, Pandas).\n",
    "\n",
    "The introduction will close with an introduction to the idea behind linear and logistic regression (very basic machine learning algorithms) and how to implement them in a few lines of code using the PyTorch library.\n",
    "\n",
    "## [Introduction](intro.ipynb)\n",
    "\n",
    "## [Variables, expressions, and statements](variables.ipynb)\n",
    "\n",
    "## [Conditional execution](conditional.ipynb)\n",
    "\n",
    "## [Functions](functions.ipynb)\n",
    "\n",
    "## [Iteration](iterations.ipynb)\n",
    "\n",
    "## [Strings](strings.ipynb)\n",
    "\n",
    "## [Files](files.ipynb)\n",
    "\n",
    "## [Lists](lists.ipynb)\n",
    "\n",
    "## [Dictionaries](dictionaries.ipynb)\n",
    "\n",
    "## [Tuples](tuples.ipynb)\n",
    "\n",
    "## [Network](network.ipynb)\n",
    "\n",
    "## [Web](web.ipynb)\n",
    "\n",
    "## [Objects](objects.ipynb)\n",
    "\n",
    "## [NumPy](intro_to_numpy.ipynb)\n",
    "\n",
    "## [Pandas](intro_to_pandas.ipynb)\n",
    "\n",
    "## [Linear Regression 1](linear_regression_1.ipynb)\n",
    "\n",
    "## [Linear Regression 2](linear_regression_2.ipynb)\n",
    "\n",
    "## [Logistic Regression](logistic_regression.ipynb)"
   ]
  },
  {
   "cell_type": "code",
   "execution_count": null,
   "metadata": {},
   "outputs": [],
   "source": []
  }
 ],
 "metadata": {
  "kernelspec": {
   "display_name": "Python 3",
   "language": "python",
   "name": "python3"
  },
  "language_info": {
   "codemirror_mode": {
    "name": "ipython",
    "version": 3
   },
   "file_extension": ".py",
   "mimetype": "text/x-python",
   "name": "python",
   "nbconvert_exporter": "python",
   "pygments_lexer": "ipython3",
   "version": "3.8.6"
  }
 },
 "nbformat": 4,
 "nbformat_minor": 4
}
