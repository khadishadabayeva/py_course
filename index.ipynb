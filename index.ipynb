{
 "cells": [
  {
   "cell_type": "markdown",
   "metadata": {},
   "source": [
    "# Programming Python\n",
    "\n",
    "## [Introduction](01-intro.ipynb)\n",
    "\n",
    "## [Variables, expressions, and statements](02-variables.ipynb)\n",
    "\n",
    "## [Conditional execution](03-conditional.ipynb)\n",
    "\n",
    "## [Functions](04-functions.ipynb)\n",
    "\n",
    "## [Iteration](05-iterations.ipynb)\n",
    "\n",
    "## [Strings](06-strings.ipynb)\n",
    "\n",
    "## [Files](07-files.ipynb)\n",
    "\n",
    "## [Lists](08-lists.ipynb)\n",
    "\n",
    "## [Dictionaries](09-dictionaries.ipynb)\n",
    "\n",
    "## [Tuples](10-tuples.ipynb)\n",
    "\n",
    "## [Network](11-network.ipynb)\n",
    "\n",
    "## [Web](12-web.ipynb)\n",
    "\n",
    "## [Objects](14-variables.ipynb)\n",
    "\n",
    "## [NumPy](intro_to_numpy.ipynb)\n",
    "\n",
    "## [Pandas](intro_to_pandas.ipynb)\n",
    "\n",
    "## [Linear Regression 1](linear_regression_1.ipynb)\n",
    "\n",
    "## [Linear Regression 2](linear_regression_2.ipynb)\n",
    "\n",
    "## [Logistic Regression](logistic_regression.ipynb)"
   ]
  }
 ],
 "metadata": {
  "kernelspec": {
   "display_name": "Python 3",
   "language": "python",
   "name": "python3"
  },
  "language_info": {
   "codemirror_mode": {
    "name": "ipython",
    "version": 3
   },
   "file_extension": ".py",
   "mimetype": "text/x-python",
   "name": "python",
   "nbconvert_exporter": "python",
   "pygments_lexer": "ipython3",
   "version": "3.8.6"
  }
 },
 "nbformat": 4,
 "nbformat_minor": 4
}
